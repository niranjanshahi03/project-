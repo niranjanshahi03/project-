{
 "cells": [
  {
   "cell_type": "markdown",
   "metadata": {},
   "source": [
    "# Part I: Descriptive Statistics"
   ]
  },
  {
   "cell_type": "markdown",
   "metadata": {},
   "source": [
    "## Import Libraries "
   ]
  },
  {
   "cell_type": "code",
   "execution_count": 1,
   "metadata": {},
   "outputs": [],
   "source": [
    "import matplotlib.pyplot as plt\n",
    "import seaborn as sns\n",
    "import pandas as pd\n",
    "import statsmodels.api as sm\n",
    "import numpy as np"
   ]
  },
  {
   "cell_type": "markdown",
   "metadata": {},
   "source": [
    "## Import and Filter Data"
   ]
  },
  {
   "cell_type": "code",
   "execution_count": 2,
   "metadata": {},
   "outputs": [
    {
     "data": {
      "text/html": [
       "<div>\n",
       "<style scoped>\n",
       "    .dataframe tbody tr th:only-of-type {\n",
       "        vertical-align: middle;\n",
       "    }\n",
       "\n",
       "    .dataframe tbody tr th {\n",
       "        vertical-align: top;\n",
       "    }\n",
       "\n",
       "    .dataframe thead th {\n",
       "        text-align: right;\n",
       "    }\n",
       "</style>\n",
       "<table border=\"1\" class=\"dataframe\">\n",
       "  <thead>\n",
       "    <tr style=\"text-align: right;\">\n",
       "      <th></th>\n",
       "      <th>region</th>\n",
       "      <th>price</th>\n",
       "      <th>type</th>\n",
       "      <th>sqfeet</th>\n",
       "      <th>beds</th>\n",
       "      <th>baths</th>\n",
       "      <th>cats_allowed</th>\n",
       "      <th>dogs_allowed</th>\n",
       "      <th>smoking_allowed</th>\n",
       "      <th>wheelchair_access</th>\n",
       "      <th>electric_vehicle_charge</th>\n",
       "      <th>comes_furnished</th>\n",
       "      <th>laundry_options</th>\n",
       "      <th>parking_options</th>\n",
       "      <th>description</th>\n",
       "      <th>lat</th>\n",
       "      <th>long</th>\n",
       "      <th>state</th>\n",
       "    </tr>\n",
       "  </thead>\n",
       "  <tbody>\n",
       "    <tr>\n",
       "      <th>0</th>\n",
       "      <td>reno / tahoe</td>\n",
       "      <td>1148</td>\n",
       "      <td>apartment</td>\n",
       "      <td>1078</td>\n",
       "      <td>3</td>\n",
       "      <td>2.0</td>\n",
       "      <td>1</td>\n",
       "      <td>1</td>\n",
       "      <td>0</td>\n",
       "      <td>0</td>\n",
       "      <td>0</td>\n",
       "      <td>0</td>\n",
       "      <td>w/d in unit</td>\n",
       "      <td>carport</td>\n",
       "      <td>Ridgeview by Vintage is where you will find al...</td>\n",
       "      <td>39.5483</td>\n",
       "      <td>-119.796</td>\n",
       "      <td>ca</td>\n",
       "    </tr>\n",
       "    <tr>\n",
       "      <th>1</th>\n",
       "      <td>reno / tahoe</td>\n",
       "      <td>1200</td>\n",
       "      <td>condo</td>\n",
       "      <td>1001</td>\n",
       "      <td>2</td>\n",
       "      <td>2.0</td>\n",
       "      <td>0</td>\n",
       "      <td>0</td>\n",
       "      <td>0</td>\n",
       "      <td>0</td>\n",
       "      <td>0</td>\n",
       "      <td>0</td>\n",
       "      <td>w/d hookups</td>\n",
       "      <td>carport</td>\n",
       "      <td>Conveniently located in the middle town of Ren...</td>\n",
       "      <td>39.5026</td>\n",
       "      <td>-119.789</td>\n",
       "      <td>ca</td>\n",
       "    </tr>\n",
       "  </tbody>\n",
       "</table>\n",
       "</div>"
      ],
      "text/plain": [
       "         region  price       type  sqfeet  beds  baths  cats_allowed  \\\n",
       "0  reno / tahoe   1148  apartment    1078     3    2.0             1   \n",
       "1  reno / tahoe   1200      condo    1001     2    2.0             0   \n",
       "\n",
       "   dogs_allowed  smoking_allowed  wheelchair_access  electric_vehicle_charge  \\\n",
       "0             1                0                  0                        0   \n",
       "1             0                0                  0                        0   \n",
       "\n",
       "   comes_furnished laundry_options parking_options  \\\n",
       "0                0     w/d in unit         carport   \n",
       "1                0     w/d hookups         carport   \n",
       "\n",
       "                                         description      lat     long state  \n",
       "0  Ridgeview by Vintage is where you will find al...  39.5483 -119.796    ca  \n",
       "1  Conveniently located in the middle town of Ren...  39.5026 -119.789    ca  "
      ]
     },
     "execution_count": 2,
     "metadata": {},
     "output_type": "execute_result"
    }
   ],
   "source": [
    "df=pd.read_csv('Capstone_2_normalised_data.csv')\n",
    "#df.head()\n",
    "df=df.drop(['id', 'url', 'region_url', 'image_url'], axis=1)\n",
    "df.head(2)"
   ]
  },
  {
   "cell_type": "code",
   "execution_count": 3,
   "metadata": {},
   "outputs": [
    {
     "data": {
      "text/html": [
       "<div>\n",
       "<style scoped>\n",
       "    .dataframe tbody tr th:only-of-type {\n",
       "        vertical-align: middle;\n",
       "    }\n",
       "\n",
       "    .dataframe tbody tr th {\n",
       "        vertical-align: top;\n",
       "    }\n",
       "\n",
       "    .dataframe thead th {\n",
       "        text-align: right;\n",
       "    }\n",
       "</style>\n",
       "<table border=\"1\" class=\"dataframe\">\n",
       "  <thead>\n",
       "    <tr style=\"text-align: right;\">\n",
       "      <th></th>\n",
       "      <th>region</th>\n",
       "      <th>price</th>\n",
       "      <th>type</th>\n",
       "      <th>sqfeet</th>\n",
       "      <th>beds</th>\n",
       "      <th>baths</th>\n",
       "      <th>cats_allowed</th>\n",
       "      <th>dogs_allowed</th>\n",
       "      <th>smoking_allowed</th>\n",
       "      <th>wheelchair_access</th>\n",
       "      <th>electric_vehicle_charge</th>\n",
       "      <th>comes_furnished</th>\n",
       "      <th>laundry_options</th>\n",
       "      <th>parking_options</th>\n",
       "      <th>description</th>\n",
       "      <th>lat</th>\n",
       "      <th>long</th>\n",
       "      <th>state</th>\n",
       "    </tr>\n",
       "  </thead>\n",
       "  <tbody>\n",
       "    <tr>\n",
       "      <th>0</th>\n",
       "      <td>reno / tahoe</td>\n",
       "      <td>1148</td>\n",
       "      <td>apartment</td>\n",
       "      <td>1078</td>\n",
       "      <td>3</td>\n",
       "      <td>2.0</td>\n",
       "      <td>1</td>\n",
       "      <td>1</td>\n",
       "      <td>0</td>\n",
       "      <td>0</td>\n",
       "      <td>0</td>\n",
       "      <td>0</td>\n",
       "      <td>w/d in unit</td>\n",
       "      <td>carport</td>\n",
       "      <td>Ridgeview by Vintage is where you will find al...</td>\n",
       "      <td>39.5483</td>\n",
       "      <td>-119.796</td>\n",
       "      <td>ca</td>\n",
       "    </tr>\n",
       "    <tr>\n",
       "      <th>1</th>\n",
       "      <td>reno / tahoe</td>\n",
       "      <td>1200</td>\n",
       "      <td>condo</td>\n",
       "      <td>1001</td>\n",
       "      <td>2</td>\n",
       "      <td>2.0</td>\n",
       "      <td>0</td>\n",
       "      <td>0</td>\n",
       "      <td>0</td>\n",
       "      <td>0</td>\n",
       "      <td>0</td>\n",
       "      <td>0</td>\n",
       "      <td>w/d hookups</td>\n",
       "      <td>carport</td>\n",
       "      <td>Conveniently located in the middle town of Ren...</td>\n",
       "      <td>39.5026</td>\n",
       "      <td>-119.789</td>\n",
       "      <td>ca</td>\n",
       "    </tr>\n",
       "  </tbody>\n",
       "</table>\n",
       "</div>"
      ],
      "text/plain": [
       "         region  price       type  sqfeet  beds  baths  cats_allowed  \\\n",
       "0  reno / tahoe   1148  apartment    1078     3    2.0             1   \n",
       "1  reno / tahoe   1200      condo    1001     2    2.0             0   \n",
       "\n",
       "   dogs_allowed  smoking_allowed  wheelchair_access  electric_vehicle_charge  \\\n",
       "0             1                0                  0                        0   \n",
       "1             0                0                  0                        0   \n",
       "\n",
       "   comes_furnished laundry_options parking_options  \\\n",
       "0                0     w/d in unit         carport   \n",
       "1                0     w/d hookups         carport   \n",
       "\n",
       "                                         description      lat     long state  \n",
       "0  Ridgeview by Vintage is where you will find al...  39.5483 -119.796    ca  \n",
       "1  Conveniently located in the middle town of Ren...  39.5026 -119.789    ca  "
      ]
     },
     "execution_count": 3,
     "metadata": {},
     "output_type": "execute_result"
    }
   ],
   "source": [
    "df_ca=df[df.state=='ca']\n",
    "df_ca.head(2)"
   ]
  },
  {
   "cell_type": "code",
   "execution_count": 4,
   "metadata": {},
   "outputs": [
    {
     "data": {
      "text/html": [
       "<div>\n",
       "<style scoped>\n",
       "    .dataframe tbody tr th:only-of-type {\n",
       "        vertical-align: middle;\n",
       "    }\n",
       "\n",
       "    .dataframe tbody tr th {\n",
       "        vertical-align: top;\n",
       "    }\n",
       "\n",
       "    .dataframe thead th {\n",
       "        text-align: right;\n",
       "    }\n",
       "</style>\n",
       "<table border=\"1\" class=\"dataframe\">\n",
       "  <thead>\n",
       "    <tr style=\"text-align: right;\">\n",
       "      <th></th>\n",
       "      <th>region</th>\n",
       "      <th>price</th>\n",
       "      <th>type</th>\n",
       "      <th>sqfeet</th>\n",
       "      <th>beds</th>\n",
       "      <th>baths</th>\n",
       "      <th>cats_allowed</th>\n",
       "      <th>dogs_allowed</th>\n",
       "      <th>smoking_allowed</th>\n",
       "      <th>wheelchair_access</th>\n",
       "      <th>electric_vehicle_charge</th>\n",
       "      <th>comes_furnished</th>\n",
       "      <th>laundry_options</th>\n",
       "      <th>parking_options</th>\n",
       "      <th>description</th>\n",
       "      <th>lat</th>\n",
       "      <th>long</th>\n",
       "      <th>state</th>\n",
       "    </tr>\n",
       "  </thead>\n",
       "  <tbody>\n",
       "    <tr>\n",
       "      <th>6024</th>\n",
       "      <td>stockton</td>\n",
       "      <td>1999</td>\n",
       "      <td>house</td>\n",
       "      <td>1700</td>\n",
       "      <td>3</td>\n",
       "      <td>2.0</td>\n",
       "      <td>1</td>\n",
       "      <td>1</td>\n",
       "      <td>1</td>\n",
       "      <td>0</td>\n",
       "      <td>0</td>\n",
       "      <td>0</td>\n",
       "      <td>NaN</td>\n",
       "      <td>NaN</td>\n",
       "      <td>3 bedroom house in Lodi! No evictions in past ...</td>\n",
       "      <td>38.1551</td>\n",
       "      <td>-121.309</td>\n",
       "      <td>ca</td>\n",
       "    </tr>\n",
       "    <tr>\n",
       "      <th>7304</th>\n",
       "      <td>stockton</td>\n",
       "      <td>1900</td>\n",
       "      <td>house</td>\n",
       "      <td>1400</td>\n",
       "      <td>3</td>\n",
       "      <td>2.0</td>\n",
       "      <td>1</td>\n",
       "      <td>1</td>\n",
       "      <td>1</td>\n",
       "      <td>0</td>\n",
       "      <td>0</td>\n",
       "      <td>0</td>\n",
       "      <td>NaN</td>\n",
       "      <td>NaN</td>\n",
       "      <td>3 bedroom house in Stockton! No evictions in p...</td>\n",
       "      <td>38.0024</td>\n",
       "      <td>-121.324</td>\n",
       "      <td>ca</td>\n",
       "    </tr>\n",
       "  </tbody>\n",
       "</table>\n",
       "</div>"
      ],
      "text/plain": [
       "        region  price   type  sqfeet  beds  baths  cats_allowed  dogs_allowed  \\\n",
       "6024  stockton   1999  house    1700     3    2.0             1             1   \n",
       "7304  stockton   1900  house    1400     3    2.0             1             1   \n",
       "\n",
       "      smoking_allowed  wheelchair_access  electric_vehicle_charge  \\\n",
       "6024                1                  0                        0   \n",
       "7304                1                  0                        0   \n",
       "\n",
       "      comes_furnished laundry_options parking_options  \\\n",
       "6024                0             NaN             NaN   \n",
       "7304                0             NaN             NaN   \n",
       "\n",
       "                                            description      lat     long  \\\n",
       "6024  3 bedroom house in Lodi! No evictions in past ...  38.1551 -121.309   \n",
       "7304  3 bedroom house in Stockton! No evictions in p...  38.0024 -121.324   \n",
       "\n",
       "     state  \n",
       "6024    ca  \n",
       "7304    ca  "
      ]
     },
     "execution_count": 4,
     "metadata": {},
     "output_type": "execute_result"
    }
   ],
   "source": [
    "df_ca1=df_ca[df_ca['region']=='stockton']\n",
    "df_ca1.head(2)"
   ]
  },
  {
   "cell_type": "code",
   "execution_count": 5,
   "metadata": {},
   "outputs": [
    {
     "name": "stderr",
     "output_type": "stream",
     "text": [
      "C:\\Users\\npana\\anaconda3\\lib\\site-packages\\ipykernel_launcher.py:1: SettingWithCopyWarning: \n",
      "A value is trying to be set on a copy of a slice from a DataFrame.\n",
      "Try using .loc[row_indexer,col_indexer] = value instead\n",
      "\n",
      "See the caveats in the documentation: https://pandas.pydata.org/pandas-docs/stable/user_guide/indexing.html#returning-a-view-versus-a-copy\n",
      "  \"\"\"Entry point for launching an IPython kernel.\n"
     ]
    },
    {
     "data": {
      "text/html": [
       "<div>\n",
       "<style scoped>\n",
       "    .dataframe tbody tr th:only-of-type {\n",
       "        vertical-align: middle;\n",
       "    }\n",
       "\n",
       "    .dataframe tbody tr th {\n",
       "        vertical-align: top;\n",
       "    }\n",
       "\n",
       "    .dataframe thead th {\n",
       "        text-align: right;\n",
       "    }\n",
       "</style>\n",
       "<table border=\"1\" class=\"dataframe\">\n",
       "  <thead>\n",
       "    <tr style=\"text-align: right;\">\n",
       "      <th></th>\n",
       "      <th>region</th>\n",
       "      <th>price</th>\n",
       "      <th>type</th>\n",
       "      <th>sqfeet</th>\n",
       "      <th>beds</th>\n",
       "      <th>baths</th>\n",
       "      <th>cats_allowed</th>\n",
       "      <th>dogs_allowed</th>\n",
       "      <th>smoking_allowed</th>\n",
       "      <th>wheelchair_access</th>\n",
       "      <th>electric_vehicle_charge</th>\n",
       "      <th>comes_furnished</th>\n",
       "      <th>laundry_options</th>\n",
       "      <th>parking_options</th>\n",
       "      <th>description</th>\n",
       "      <th>lat</th>\n",
       "      <th>long</th>\n",
       "      <th>state</th>\n",
       "      <th>description_count</th>\n",
       "    </tr>\n",
       "  </thead>\n",
       "  <tbody>\n",
       "    <tr>\n",
       "      <th>6024</th>\n",
       "      <td>stockton</td>\n",
       "      <td>1999</td>\n",
       "      <td>house</td>\n",
       "      <td>1700</td>\n",
       "      <td>3</td>\n",
       "      <td>2.0</td>\n",
       "      <td>1</td>\n",
       "      <td>1</td>\n",
       "      <td>1</td>\n",
       "      <td>0</td>\n",
       "      <td>0</td>\n",
       "      <td>0</td>\n",
       "      <td>NaN</td>\n",
       "      <td>NaN</td>\n",
       "      <td>3 bedroom house in Lodi! No evictions in past ...</td>\n",
       "      <td>38.1551</td>\n",
       "      <td>-121.309</td>\n",
       "      <td>ca</td>\n",
       "      <td>79</td>\n",
       "    </tr>\n",
       "    <tr>\n",
       "      <th>7304</th>\n",
       "      <td>stockton</td>\n",
       "      <td>1900</td>\n",
       "      <td>house</td>\n",
       "      <td>1400</td>\n",
       "      <td>3</td>\n",
       "      <td>2.0</td>\n",
       "      <td>1</td>\n",
       "      <td>1</td>\n",
       "      <td>1</td>\n",
       "      <td>0</td>\n",
       "      <td>0</td>\n",
       "      <td>0</td>\n",
       "      <td>NaN</td>\n",
       "      <td>NaN</td>\n",
       "      <td>3 bedroom house in Stockton! No evictions in p...</td>\n",
       "      <td>38.0024</td>\n",
       "      <td>-121.324</td>\n",
       "      <td>ca</td>\n",
       "      <td>81</td>\n",
       "    </tr>\n",
       "  </tbody>\n",
       "</table>\n",
       "</div>"
      ],
      "text/plain": [
       "        region  price   type  sqfeet  beds  baths  cats_allowed  dogs_allowed  \\\n",
       "6024  stockton   1999  house    1700     3    2.0             1             1   \n",
       "7304  stockton   1900  house    1400     3    2.0             1             1   \n",
       "\n",
       "      smoking_allowed  wheelchair_access  electric_vehicle_charge  \\\n",
       "6024                1                  0                        0   \n",
       "7304                1                  0                        0   \n",
       "\n",
       "      comes_furnished laundry_options parking_options  \\\n",
       "6024                0             NaN             NaN   \n",
       "7304                0             NaN             NaN   \n",
       "\n",
       "                                            description      lat     long  \\\n",
       "6024  3 bedroom house in Lodi! No evictions in past ...  38.1551 -121.309   \n",
       "7304  3 bedroom house in Stockton! No evictions in p...  38.0024 -121.324   \n",
       "\n",
       "     state  description_count  \n",
       "6024    ca                 79  \n",
       "7304    ca                 81  "
      ]
     },
     "execution_count": 5,
     "metadata": {},
     "output_type": "execute_result"
    }
   ],
   "source": [
    "df_ca1['description_count'] = df_ca1.description.apply(lambda x: len(x.split()))\n",
    "df_ca1.head(2)"
   ]
  },
  {
   "cell_type": "markdown",
   "metadata": {},
   "source": [
    "## Data Cleaning"
   ]
  },
  {
   "cell_type": "code",
   "execution_count": 6,
   "metadata": {},
   "outputs": [
    {
     "data": {
      "text/plain": [
       "region                       0\n",
       "price                        0\n",
       "type                         0\n",
       "sqfeet                       0\n",
       "beds                         0\n",
       "baths                        0\n",
       "cats_allowed                 0\n",
       "dogs_allowed                 0\n",
       "smoking_allowed              0\n",
       "wheelchair_access            0\n",
       "electric_vehicle_charge      0\n",
       "comes_furnished              0\n",
       "laundry_options            444\n",
       "parking_options            814\n",
       "description                  0\n",
       "lat                          2\n",
       "long                         2\n",
       "state                        0\n",
       "description_count            0\n",
       "dtype: int64"
      ]
     },
     "execution_count": 6,
     "metadata": {},
     "output_type": "execute_result"
    }
   ],
   "source": [
    "df_ca1.isnull().sum()"
   ]
  },
  {
   "cell_type": "code",
   "execution_count": 7,
   "metadata": {},
   "outputs": [
    {
     "data": {
      "text/plain": [
       "type          laundry_options   \n",
       "apartment     w/d in unit           674\n",
       "              laundry on site       665\n",
       "              w/d hookups           546\n",
       "              laundry in bldg       103\n",
       "              no laundry on site     12\n",
       "condo         w/d hookups             4\n",
       "              laundry on site         3\n",
       "              laundry in bldg         1\n",
       "              w/d in unit             1\n",
       "duplex        w/d hookups             8\n",
       "              w/d in unit             2\n",
       "              no laundry on site      1\n",
       "flat          w/d hookups             3\n",
       "house         w/d hookups            38\n",
       "              w/d in unit            33\n",
       "              laundry in bldg         3\n",
       "              laundry on site         2\n",
       "              no laundry on site      1\n",
       "in-law        no laundry on site      1\n",
       "              w/d in unit             1\n",
       "manufactured  laundry on site         1\n",
       "              w/d hookups             1\n",
       "townhouse     w/d hookups            16\n",
       "              w/d in unit             6\n",
       "              laundry in bldg         1\n",
       "Name: laundry_options, dtype: int64"
      ]
     },
     "execution_count": 7,
     "metadata": {},
     "output_type": "execute_result"
    }
   ],
   "source": [
    "df_ca1.groupby('type')['laundry_options'].value_counts()"
   ]
  },
  {
   "cell_type": "code",
   "execution_count": 8,
   "metadata": {},
   "outputs": [
    {
     "data": {
      "text/plain": [
       "w/d in unit           717\n",
       "laundry on site       671\n",
       "w/d hookups           616\n",
       "NaN                   444\n",
       "laundry in bldg       108\n",
       "no laundry on site     15\n",
       "Name: laundry_options, dtype: int64"
      ]
     },
     "execution_count": 8,
     "metadata": {},
     "output_type": "execute_result"
    }
   ],
   "source": [
    "df_ca1['laundry_options'].value_counts(dropna=False)"
   ]
  },
  {
   "cell_type": "code",
   "execution_count": 9,
   "metadata": {},
   "outputs": [
    {
     "data": {
      "text/plain": [
       "6024          w/d in unit\n",
       "7304          w/d in unit\n",
       "7841          w/d hookups\n",
       "9011          w/d hookups\n",
       "9024      laundry in bldg\n",
       "               ...       \n",
       "12113         w/d hookups\n",
       "379374        w/d in unit\n",
       "379402    laundry on site\n",
       "381173        w/d in unit\n",
       "381631        w/d in unit\n",
       "Name: laundry_options, Length: 2571, dtype: object"
      ]
     },
     "execution_count": 9,
     "metadata": {},
     "output_type": "execute_result"
    }
   ],
   "source": [
    "df_ca1['laundry_options'].fillna('w/d in unit')"
   ]
  },
  {
   "cell_type": "code",
   "execution_count": 10,
   "metadata": {},
   "outputs": [
    {
     "data": {
      "text/plain": [
       "type          parking_options   \n",
       "apartment     carport               1376\n",
       "              attached garage        117\n",
       "              off-street parking      83\n",
       "              detached garage         38\n",
       "              street parking           7\n",
       "              no parking               2\n",
       "condo         carport                  6\n",
       "              detached garage          2\n",
       "              attached garage          1\n",
       "duplex        attached garage          6\n",
       "              carport                  3\n",
       "              detached garage          2\n",
       "              street parking           1\n",
       "flat          carport                  3\n",
       "house         attached garage         66\n",
       "              off-street parking       8\n",
       "              street parking           5\n",
       "              carport                  2\n",
       "              detached garage          2\n",
       "in-law        street parking           2\n",
       "manufactured  off-street parking       2\n",
       "townhouse     carport                 15\n",
       "              attached garage          5\n",
       "              detached garage          3\n",
       "Name: parking_options, dtype: int64"
      ]
     },
     "execution_count": 10,
     "metadata": {},
     "output_type": "execute_result"
    }
   ],
   "source": [
    "df_ca1.groupby('type')['parking_options'].value_counts()"
   ]
  },
  {
   "cell_type": "code",
   "execution_count": 11,
   "metadata": {},
   "outputs": [
    {
     "data": {
      "text/plain": [
       "carport               1405\n",
       "NaN                    814\n",
       "attached garage        195\n",
       "off-street parking      93\n",
       "detached garage         47\n",
       "street parking          15\n",
       "no parking               2\n",
       "Name: parking_options, dtype: int64"
      ]
     },
     "execution_count": 11,
     "metadata": {},
     "output_type": "execute_result"
    }
   ],
   "source": [
    "df_ca1['parking_options'].value_counts(dropna=False)"
   ]
  },
  {
   "cell_type": "code",
   "execution_count": 12,
   "metadata": {},
   "outputs": [
    {
     "data": {
      "text/plain": [
       "6024                 carport\n",
       "7304                 carport\n",
       "7841         attached garage\n",
       "9011         attached garage\n",
       "9024      off-street parking\n",
       "                 ...        \n",
       "12113        detached garage\n",
       "379374               carport\n",
       "379402               carport\n",
       "381173               carport\n",
       "381631               carport\n",
       "Name: parking_options, Length: 2571, dtype: object"
      ]
     },
     "execution_count": 12,
     "metadata": {},
     "output_type": "execute_result"
    }
   ],
   "source": [
    "df_ca1['parking_options'].fillna('carport')"
   ]
  },
  {
   "cell_type": "code",
   "execution_count": 13,
   "metadata": {},
   "outputs": [
    {
     "data": {
      "text/plain": [
       "(2571, 19)"
      ]
     },
     "execution_count": 13,
     "metadata": {},
     "output_type": "execute_result"
    }
   ],
   "source": [
    "df_ca1.shape"
   ]
  },
  {
   "cell_type": "markdown",
   "metadata": {},
   "source": [
    "## Removing Oultliers"
   ]
  },
  {
   "cell_type": "code",
   "execution_count": 14,
   "metadata": {},
   "outputs": [
    {
     "name": "stdout",
     "output_type": "stream",
     "text": [
      "price                      490.000\n",
      "sqfeet                     325.000\n",
      "beds                         1.000\n",
      "baths                        1.000\n",
      "cats_allowed                 1.000\n",
      "dogs_allowed                 1.000\n",
      "smoking_allowed              0.000\n",
      "wheelchair_access            0.000\n",
      "electric_vehicle_charge      0.000\n",
      "comes_furnished              0.000\n",
      "lat                          0.194\n",
      "long                         0.083\n",
      "description_count           73.000\n",
      "dtype: float64\n"
     ]
    }
   ],
   "source": [
    "Q1 = df_ca1.quantile(0.25)\n",
    "Q3 = df_ca1.quantile(0.75)\n",
    "IQR = Q3 - Q1\n",
    "print(IQR)"
   ]
  },
  {
   "cell_type": "code",
   "execution_count": 15,
   "metadata": {},
   "outputs": [
    {
     "data": {
      "text/plain": [
       "(1831, 19)"
      ]
     },
     "execution_count": 15,
     "metadata": {},
     "output_type": "execute_result"
    }
   ],
   "source": [
    "outliers=(df_ca1 < (Q1 - 1.5 * IQR)) |(df_ca1 > (Q3 + 1.5 * IQR)) \n",
    "df_valid= df_ca1[~((df_ca1 < (Q1 - 1.5 * IQR)) |(df_ca1 > (Q3 + 1.5 * IQR))).any(axis=1)]\n",
    "df_valid.shape"
   ]
  },
  {
   "cell_type": "code",
   "execution_count": 16,
   "metadata": {},
   "outputs": [
    {
     "data": {
      "text/html": [
       "<div>\n",
       "<style scoped>\n",
       "    .dataframe tbody tr th:only-of-type {\n",
       "        vertical-align: middle;\n",
       "    }\n",
       "\n",
       "    .dataframe tbody tr th {\n",
       "        vertical-align: top;\n",
       "    }\n",
       "\n",
       "    .dataframe thead th {\n",
       "        text-align: right;\n",
       "    }\n",
       "</style>\n",
       "<table border=\"1\" class=\"dataframe\">\n",
       "  <thead>\n",
       "    <tr style=\"text-align: right;\">\n",
       "      <th></th>\n",
       "      <th>region</th>\n",
       "      <th>price</th>\n",
       "      <th>type</th>\n",
       "      <th>sqfeet</th>\n",
       "      <th>beds</th>\n",
       "      <th>baths</th>\n",
       "      <th>cats_allowed</th>\n",
       "      <th>dogs_allowed</th>\n",
       "      <th>smoking_allowed</th>\n",
       "      <th>wheelchair_access</th>\n",
       "      <th>electric_vehicle_charge</th>\n",
       "      <th>comes_furnished</th>\n",
       "      <th>laundry_options</th>\n",
       "      <th>parking_options</th>\n",
       "      <th>description</th>\n",
       "      <th>lat</th>\n",
       "      <th>long</th>\n",
       "      <th>state</th>\n",
       "      <th>description_count</th>\n",
       "    </tr>\n",
       "  </thead>\n",
       "  <tbody>\n",
       "    <tr>\n",
       "      <th>7304</th>\n",
       "      <td>stockton</td>\n",
       "      <td>1900</td>\n",
       "      <td>house</td>\n",
       "      <td>1400</td>\n",
       "      <td>3</td>\n",
       "      <td>2.0</td>\n",
       "      <td>1</td>\n",
       "      <td>1</td>\n",
       "      <td>1</td>\n",
       "      <td>0</td>\n",
       "      <td>0</td>\n",
       "      <td>0</td>\n",
       "      <td>NaN</td>\n",
       "      <td>NaN</td>\n",
       "      <td>3 bedroom house in Stockton! No evictions in p...</td>\n",
       "      <td>38.0024</td>\n",
       "      <td>-121.324</td>\n",
       "      <td>ca</td>\n",
       "      <td>81</td>\n",
       "    </tr>\n",
       "    <tr>\n",
       "      <th>7841</th>\n",
       "      <td>stockton</td>\n",
       "      <td>1600</td>\n",
       "      <td>house</td>\n",
       "      <td>1175</td>\n",
       "      <td>3</td>\n",
       "      <td>2.0</td>\n",
       "      <td>0</td>\n",
       "      <td>0</td>\n",
       "      <td>1</td>\n",
       "      <td>0</td>\n",
       "      <td>0</td>\n",
       "      <td>0</td>\n",
       "      <td>w/d hookups</td>\n",
       "      <td>attached garage</td>\n",
       "      <td>- Large Lot: 6600 SF - Granite Counter Top - C...</td>\n",
       "      <td>38.0314</td>\n",
       "      <td>-121.322</td>\n",
       "      <td>ca</td>\n",
       "      <td>85</td>\n",
       "    </tr>\n",
       "  </tbody>\n",
       "</table>\n",
       "</div>"
      ],
      "text/plain": [
       "        region  price   type  sqfeet  beds  baths  cats_allowed  dogs_allowed  \\\n",
       "7304  stockton   1900  house    1400     3    2.0             1             1   \n",
       "7841  stockton   1600  house    1175     3    2.0             0             0   \n",
       "\n",
       "      smoking_allowed  wheelchair_access  electric_vehicle_charge  \\\n",
       "7304                1                  0                        0   \n",
       "7841                1                  0                        0   \n",
       "\n",
       "      comes_furnished laundry_options  parking_options  \\\n",
       "7304                0             NaN              NaN   \n",
       "7841                0     w/d hookups  attached garage   \n",
       "\n",
       "                                            description      lat     long  \\\n",
       "7304  3 bedroom house in Stockton! No evictions in p...  38.0024 -121.324   \n",
       "7841  - Large Lot: 6600 SF - Granite Counter Top - C...  38.0314 -121.322   \n",
       "\n",
       "     state  description_count  \n",
       "7304    ca                 81  \n",
       "7841    ca                 85  "
      ]
     },
     "execution_count": 16,
     "metadata": {},
     "output_type": "execute_result"
    }
   ],
   "source": [
    "df_valid.head(2)"
   ]
  },
  {
   "cell_type": "code",
   "execution_count": 17,
   "metadata": {},
   "outputs": [],
   "source": [
    "df_valid.to_excel('df_valid.xlsx')"
   ]
  },
  {
   "cell_type": "markdown",
   "metadata": {},
   "source": [
    "## Data Normalization"
   ]
  },
  {
   "cell_type": "code",
   "execution_count": 18,
   "metadata": {},
   "outputs": [
    {
     "data": {
      "text/html": [
       "<div>\n",
       "<style scoped>\n",
       "    .dataframe tbody tr th:only-of-type {\n",
       "        vertical-align: middle;\n",
       "    }\n",
       "\n",
       "    .dataframe tbody tr th {\n",
       "        vertical-align: top;\n",
       "    }\n",
       "\n",
       "    .dataframe thead th {\n",
       "        text-align: right;\n",
       "    }\n",
       "</style>\n",
       "<table border=\"1\" class=\"dataframe\">\n",
       "  <thead>\n",
       "    <tr style=\"text-align: right;\">\n",
       "      <th></th>\n",
       "      <th>price</th>\n",
       "      <th>sqfeet</th>\n",
       "      <th>description_count</th>\n",
       "    </tr>\n",
       "  </thead>\n",
       "  <tbody>\n",
       "    <tr>\n",
       "      <th>7304</th>\n",
       "      <td>0.724554</td>\n",
       "      <td>0.909570</td>\n",
       "      <td>0.267148</td>\n",
       "    </tr>\n",
       "    <tr>\n",
       "      <th>7841</th>\n",
       "      <td>0.552041</td>\n",
       "      <td>0.712028</td>\n",
       "      <td>0.281588</td>\n",
       "    </tr>\n",
       "  </tbody>\n",
       "</table>\n",
       "</div>"
      ],
      "text/plain": [
       "         price    sqfeet  description_count\n",
       "7304  0.724554  0.909570           0.267148\n",
       "7841  0.552041  0.712028           0.281588"
      ]
     },
     "execution_count": 18,
     "metadata": {},
     "output_type": "execute_result"
    }
   ],
   "source": [
    "\n",
    "df_ca_V=df_valid[df_valid.region.isin(['stockton'])]\n",
    "X_data=df_ca_V[['price','sqfeet', 'description_count']]\n",
    "X_data2=X_data.apply(lambda x: (x - x.min(axis=0)) / ((x.max(axis=0))-(x.min(axis=0))))\n",
    "X_data2.head(2)"
   ]
  },
  {
   "cell_type": "code",
   "execution_count": 19,
   "metadata": {},
   "outputs": [
    {
     "data": {
      "text/plain": [
       "(1831, 3)"
      ]
     },
     "execution_count": 19,
     "metadata": {},
     "output_type": "execute_result"
    }
   ],
   "source": [
    "X_data2.shape"
   ]
  },
  {
   "cell_type": "code",
   "execution_count": 20,
   "metadata": {},
   "outputs": [],
   "source": [
    "df_filt=df_valid.drop([ 'sqfeet','description_count', 'price' ], axis=1)"
   ]
  },
  {
   "cell_type": "code",
   "execution_count": 21,
   "metadata": {},
   "outputs": [
    {
     "data": {
      "text/html": [
       "<div>\n",
       "<style scoped>\n",
       "    .dataframe tbody tr th:only-of-type {\n",
       "        vertical-align: middle;\n",
       "    }\n",
       "\n",
       "    .dataframe tbody tr th {\n",
       "        vertical-align: top;\n",
       "    }\n",
       "\n",
       "    .dataframe thead th {\n",
       "        text-align: right;\n",
       "    }\n",
       "</style>\n",
       "<table border=\"1\" class=\"dataframe\">\n",
       "  <thead>\n",
       "    <tr style=\"text-align: right;\">\n",
       "      <th></th>\n",
       "      <th>region</th>\n",
       "      <th>type</th>\n",
       "      <th>beds</th>\n",
       "      <th>baths</th>\n",
       "      <th>cats_allowed</th>\n",
       "      <th>dogs_allowed</th>\n",
       "      <th>smoking_allowed</th>\n",
       "      <th>wheelchair_access</th>\n",
       "      <th>electric_vehicle_charge</th>\n",
       "      <th>comes_furnished</th>\n",
       "      <th>laundry_options</th>\n",
       "      <th>parking_options</th>\n",
       "      <th>description</th>\n",
       "      <th>lat</th>\n",
       "      <th>long</th>\n",
       "      <th>state</th>\n",
       "      <th>price</th>\n",
       "      <th>sqfeet</th>\n",
       "      <th>description_count</th>\n",
       "    </tr>\n",
       "  </thead>\n",
       "  <tbody>\n",
       "    <tr>\n",
       "      <th>7304</th>\n",
       "      <td>stockton</td>\n",
       "      <td>house</td>\n",
       "      <td>3</td>\n",
       "      <td>2.0</td>\n",
       "      <td>1</td>\n",
       "      <td>1</td>\n",
       "      <td>1</td>\n",
       "      <td>0</td>\n",
       "      <td>0</td>\n",
       "      <td>0</td>\n",
       "      <td>NaN</td>\n",
       "      <td>NaN</td>\n",
       "      <td>3 bedroom house in Stockton! No evictions in p...</td>\n",
       "      <td>38.0024</td>\n",
       "      <td>-121.324</td>\n",
       "      <td>ca</td>\n",
       "      <td>0.724554</td>\n",
       "      <td>0.909570</td>\n",
       "      <td>0.267148</td>\n",
       "    </tr>\n",
       "    <tr>\n",
       "      <th>7841</th>\n",
       "      <td>stockton</td>\n",
       "      <td>house</td>\n",
       "      <td>3</td>\n",
       "      <td>2.0</td>\n",
       "      <td>0</td>\n",
       "      <td>0</td>\n",
       "      <td>1</td>\n",
       "      <td>0</td>\n",
       "      <td>0</td>\n",
       "      <td>0</td>\n",
       "      <td>w/d hookups</td>\n",
       "      <td>attached garage</td>\n",
       "      <td>- Large Lot: 6600 SF - Granite Counter Top - C...</td>\n",
       "      <td>38.0314</td>\n",
       "      <td>-121.322</td>\n",
       "      <td>ca</td>\n",
       "      <td>0.552041</td>\n",
       "      <td>0.712028</td>\n",
       "      <td>0.281588</td>\n",
       "    </tr>\n",
       "  </tbody>\n",
       "</table>\n",
       "</div>"
      ],
      "text/plain": [
       "        region   type  beds  baths  cats_allowed  dogs_allowed  \\\n",
       "7304  stockton  house     3    2.0             1             1   \n",
       "7841  stockton  house     3    2.0             0             0   \n",
       "\n",
       "      smoking_allowed  wheelchair_access  electric_vehicle_charge  \\\n",
       "7304                1                  0                        0   \n",
       "7841                1                  0                        0   \n",
       "\n",
       "      comes_furnished laundry_options  parking_options  \\\n",
       "7304                0             NaN              NaN   \n",
       "7841                0     w/d hookups  attached garage   \n",
       "\n",
       "                                            description      lat     long  \\\n",
       "7304  3 bedroom house in Stockton! No evictions in p...  38.0024 -121.324   \n",
       "7841  - Large Lot: 6600 SF - Granite Counter Top - C...  38.0314 -121.322   \n",
       "\n",
       "     state     price    sqfeet  description_count  \n",
       "7304    ca  0.724554  0.909570           0.267148  \n",
       "7841    ca  0.552041  0.712028           0.281588  "
      ]
     },
     "execution_count": 21,
     "metadata": {},
     "output_type": "execute_result"
    }
   ],
   "source": [
    "df_normalised=pd.concat([df_filt, X_data2], axis=1)\n",
    "df_normalised.head(2)"
   ]
  },
  {
   "cell_type": "code",
   "execution_count": 22,
   "metadata": {},
   "outputs": [
    {
     "data": {
      "text/plain": [
       "(1831, 19)"
      ]
     },
     "execution_count": 22,
     "metadata": {},
     "output_type": "execute_result"
    }
   ],
   "source": [
    "df_normalised.shape"
   ]
  },
  {
   "cell_type": "code",
   "execution_count": 23,
   "metadata": {},
   "outputs": [
    {
     "data": {
      "text/html": [
       "<div>\n",
       "<style scoped>\n",
       "    .dataframe tbody tr th:only-of-type {\n",
       "        vertical-align: middle;\n",
       "    }\n",
       "\n",
       "    .dataframe tbody tr th {\n",
       "        vertical-align: top;\n",
       "    }\n",
       "\n",
       "    .dataframe thead th {\n",
       "        text-align: right;\n",
       "    }\n",
       "</style>\n",
       "<table border=\"1\" class=\"dataframe\">\n",
       "  <thead>\n",
       "    <tr style=\"text-align: right;\">\n",
       "      <th></th>\n",
       "      <th>beds</th>\n",
       "      <th>baths</th>\n",
       "      <th>cats_allowed</th>\n",
       "      <th>dogs_allowed</th>\n",
       "      <th>smoking_allowed</th>\n",
       "      <th>wheelchair_access</th>\n",
       "      <th>electric_vehicle_charge</th>\n",
       "      <th>comes_furnished</th>\n",
       "      <th>lat</th>\n",
       "      <th>long</th>\n",
       "      <th>price</th>\n",
       "      <th>sqfeet</th>\n",
       "      <th>description_count</th>\n",
       "    </tr>\n",
       "  </thead>\n",
       "  <tbody>\n",
       "    <tr>\n",
       "      <th>count</th>\n",
       "      <td>1831.000000</td>\n",
       "      <td>1831.000000</td>\n",
       "      <td>1831.000000</td>\n",
       "      <td>1831.000000</td>\n",
       "      <td>1831.0</td>\n",
       "      <td>1831.0</td>\n",
       "      <td>1831.0</td>\n",
       "      <td>1831.0</td>\n",
       "      <td>1830.000000</td>\n",
       "      <td>1830.000000</td>\n",
       "      <td>1831.000000</td>\n",
       "      <td>1831.000000</td>\n",
       "      <td>1831.000000</td>\n",
       "    </tr>\n",
       "    <tr>\n",
       "      <th>mean</th>\n",
       "      <td>1.673403</td>\n",
       "      <td>1.342163</td>\n",
       "      <td>0.678864</td>\n",
       "      <td>0.679956</td>\n",
       "      <td>1.0</td>\n",
       "      <td>0.0</td>\n",
       "      <td>0.0</td>\n",
       "      <td>0.0</td>\n",
       "      <td>37.974086</td>\n",
       "      <td>-121.322076</td>\n",
       "      <td>0.474256</td>\n",
       "      <td>0.448676</td>\n",
       "      <td>0.493291</td>\n",
       "    </tr>\n",
       "    <tr>\n",
       "      <th>std</th>\n",
       "      <td>0.617015</td>\n",
       "      <td>0.484111</td>\n",
       "      <td>0.467040</td>\n",
       "      <td>0.466620</td>\n",
       "      <td>0.0</td>\n",
       "      <td>0.0</td>\n",
       "      <td>0.0</td>\n",
       "      <td>0.0</td>\n",
       "      <td>0.116324</td>\n",
       "      <td>0.060511</td>\n",
       "      <td>0.169870</td>\n",
       "      <td>0.182841</td>\n",
       "      <td>0.191269</td>\n",
       "    </tr>\n",
       "    <tr>\n",
       "      <th>min</th>\n",
       "      <td>0.000000</td>\n",
       "      <td>0.000000</td>\n",
       "      <td>0.000000</td>\n",
       "      <td>0.000000</td>\n",
       "      <td>1.0</td>\n",
       "      <td>0.0</td>\n",
       "      <td>0.0</td>\n",
       "      <td>0.0</td>\n",
       "      <td>37.698800</td>\n",
       "      <td>-121.482000</td>\n",
       "      <td>0.000000</td>\n",
       "      <td>0.000000</td>\n",
       "      <td>0.000000</td>\n",
       "    </tr>\n",
       "    <tr>\n",
       "      <th>25%</th>\n",
       "      <td>1.000000</td>\n",
       "      <td>1.000000</td>\n",
       "      <td>0.000000</td>\n",
       "      <td>0.000000</td>\n",
       "      <td>1.0</td>\n",
       "      <td>0.0</td>\n",
       "      <td>0.0</td>\n",
       "      <td>0.0</td>\n",
       "      <td>37.987200</td>\n",
       "      <td>-121.360000</td>\n",
       "      <td>0.359402</td>\n",
       "      <td>0.296752</td>\n",
       "      <td>0.382671</td>\n",
       "    </tr>\n",
       "    <tr>\n",
       "      <th>50%</th>\n",
       "      <td>2.000000</td>\n",
       "      <td>1.000000</td>\n",
       "      <td>1.000000</td>\n",
       "      <td>1.000000</td>\n",
       "      <td>1.0</td>\n",
       "      <td>0.0</td>\n",
       "      <td>0.0</td>\n",
       "      <td>0.0</td>\n",
       "      <td>38.002500</td>\n",
       "      <td>-121.324000</td>\n",
       "      <td>0.434158</td>\n",
       "      <td>0.457419</td>\n",
       "      <td>0.440433</td>\n",
       "    </tr>\n",
       "    <tr>\n",
       "      <th>75%</th>\n",
       "      <td>2.000000</td>\n",
       "      <td>2.000000</td>\n",
       "      <td>1.000000</td>\n",
       "      <td>1.000000</td>\n",
       "      <td>1.0</td>\n",
       "      <td>0.0</td>\n",
       "      <td>0.0</td>\n",
       "      <td>0.0</td>\n",
       "      <td>38.037100</td>\n",
       "      <td>-121.278000</td>\n",
       "      <td>0.600920</td>\n",
       "      <td>0.568042</td>\n",
       "      <td>0.613718</td>\n",
       "    </tr>\n",
       "    <tr>\n",
       "      <th>max</th>\n",
       "      <td>3.000000</td>\n",
       "      <td>2.500000</td>\n",
       "      <td>1.000000</td>\n",
       "      <td>1.000000</td>\n",
       "      <td>1.0</td>\n",
       "      <td>0.0</td>\n",
       "      <td>0.0</td>\n",
       "      <td>0.0</td>\n",
       "      <td>38.200400</td>\n",
       "      <td>-121.188000</td>\n",
       "      <td>1.000000</td>\n",
       "      <td>1.000000</td>\n",
       "      <td>1.000000</td>\n",
       "    </tr>\n",
       "  </tbody>\n",
       "</table>\n",
       "</div>"
      ],
      "text/plain": [
       "              beds        baths  cats_allowed  dogs_allowed  smoking_allowed  \\\n",
       "count  1831.000000  1831.000000   1831.000000   1831.000000           1831.0   \n",
       "mean      1.673403     1.342163      0.678864      0.679956              1.0   \n",
       "std       0.617015     0.484111      0.467040      0.466620              0.0   \n",
       "min       0.000000     0.000000      0.000000      0.000000              1.0   \n",
       "25%       1.000000     1.000000      0.000000      0.000000              1.0   \n",
       "50%       2.000000     1.000000      1.000000      1.000000              1.0   \n",
       "75%       2.000000     2.000000      1.000000      1.000000              1.0   \n",
       "max       3.000000     2.500000      1.000000      1.000000              1.0   \n",
       "\n",
       "       wheelchair_access  electric_vehicle_charge  comes_furnished  \\\n",
       "count             1831.0                   1831.0           1831.0   \n",
       "mean                 0.0                      0.0              0.0   \n",
       "std                  0.0                      0.0              0.0   \n",
       "min                  0.0                      0.0              0.0   \n",
       "25%                  0.0                      0.0              0.0   \n",
       "50%                  0.0                      0.0              0.0   \n",
       "75%                  0.0                      0.0              0.0   \n",
       "max                  0.0                      0.0              0.0   \n",
       "\n",
       "               lat         long        price       sqfeet  description_count  \n",
       "count  1830.000000  1830.000000  1831.000000  1831.000000        1831.000000  \n",
       "mean     37.974086  -121.322076     0.474256     0.448676           0.493291  \n",
       "std       0.116324     0.060511     0.169870     0.182841           0.191269  \n",
       "min      37.698800  -121.482000     0.000000     0.000000           0.000000  \n",
       "25%      37.987200  -121.360000     0.359402     0.296752           0.382671  \n",
       "50%      38.002500  -121.324000     0.434158     0.457419           0.440433  \n",
       "75%      38.037100  -121.278000     0.600920     0.568042           0.613718  \n",
       "max      38.200400  -121.188000     1.000000     1.000000           1.000000  "
      ]
     },
     "execution_count": 23,
     "metadata": {},
     "output_type": "execute_result"
    }
   ],
   "source": [
    "df_normalised.describe()"
   ]
  },
  {
   "cell_type": "markdown",
   "metadata": {},
   "source": [
    "## Insights"
   ]
  },
  {
   "cell_type": "code",
   "execution_count": 24,
   "metadata": {},
   "outputs": [
    {
     "data": {
      "text/html": [
       "<div>\n",
       "<style scoped>\n",
       "    .dataframe tbody tr th:only-of-type {\n",
       "        vertical-align: middle;\n",
       "    }\n",
       "\n",
       "    .dataframe tbody tr th {\n",
       "        vertical-align: top;\n",
       "    }\n",
       "\n",
       "    .dataframe thead th {\n",
       "        text-align: right;\n",
       "    }\n",
       "</style>\n",
       "<table border=\"1\" class=\"dataframe\">\n",
       "  <thead>\n",
       "    <tr style=\"text-align: right;\">\n",
       "      <th></th>\n",
       "      <th>price</th>\n",
       "      <th>sqfeet</th>\n",
       "      <th>beds</th>\n",
       "      <th>baths</th>\n",
       "      <th>description_count</th>\n",
       "    </tr>\n",
       "  </thead>\n",
       "  <tbody>\n",
       "    <tr>\n",
       "      <th>7304</th>\n",
       "      <td>0.724554</td>\n",
       "      <td>0.909570</td>\n",
       "      <td>3</td>\n",
       "      <td>2.0</td>\n",
       "      <td>0.267148</td>\n",
       "    </tr>\n",
       "    <tr>\n",
       "      <th>7841</th>\n",
       "      <td>0.552041</td>\n",
       "      <td>0.712028</td>\n",
       "      <td>3</td>\n",
       "      <td>2.0</td>\n",
       "      <td>0.281588</td>\n",
       "    </tr>\n",
       "    <tr>\n",
       "      <th>9011</th>\n",
       "      <td>0.552041</td>\n",
       "      <td>0.712028</td>\n",
       "      <td>3</td>\n",
       "      <td>2.0</td>\n",
       "      <td>0.281588</td>\n",
       "    </tr>\n",
       "    <tr>\n",
       "      <th>9039</th>\n",
       "      <td>0.645198</td>\n",
       "      <td>0.518876</td>\n",
       "      <td>2</td>\n",
       "      <td>2.0</td>\n",
       "      <td>0.963899</td>\n",
       "    </tr>\n",
       "    <tr>\n",
       "      <th>9097</th>\n",
       "      <td>0.000000</td>\n",
       "      <td>0.482880</td>\n",
       "      <td>2</td>\n",
       "      <td>1.0</td>\n",
       "      <td>0.173285</td>\n",
       "    </tr>\n",
       "  </tbody>\n",
       "</table>\n",
       "</div>"
      ],
      "text/plain": [
       "         price    sqfeet  beds  baths  description_count\n",
       "7304  0.724554  0.909570     3    2.0           0.267148\n",
       "7841  0.552041  0.712028     3    2.0           0.281588\n",
       "9011  0.552041  0.712028     3    2.0           0.281588\n",
       "9039  0.645198  0.518876     2    2.0           0.963899\n",
       "9097  0.000000  0.482880     2    1.0           0.173285"
      ]
     },
     "execution_count": 24,
     "metadata": {},
     "output_type": "execute_result"
    }
   ],
   "source": [
    "df_filt2=df_normalised[['price', 'sqfeet', 'beds', 'baths', 'description_count']]\n",
    "df_filt2.head()"
   ]
  },
  {
   "cell_type": "code",
   "execution_count": 25,
   "metadata": {},
   "outputs": [
    {
     "data": {
      "image/png": "[encoded data removed]",
      "text/plain": [
       "<Figure size 900x900 with 30 Axes>"
      ]
     },
     "metadata": {
      "needs_background": "light"
     },
     "output_type": "display_data"
    }
   ],
   "source": [
    "g=sns.pairplot(df_filt2)"
   ]
  },
  {
   "cell_type": "code",
   "execution_count": 26,
   "metadata": {},
   "outputs": [
    {
     "data": {
      "text/plain": [
       "<seaborn.axisgrid.FacetGrid at 0x18488f22dc8>"
      ]
     },
     "execution_count": 26,
     "metadata": {},
     "output_type": "execute_result"
    },
    {
     "data": {
      "image/png": "[encoded data removed]",
      "text/plain": [
       "<Figure size 360x360 with 1 Axes>"
      ]
     },
     "metadata": {
      "needs_background": "light"
     },
     "output_type": "display_data"
    }
   ],
   "source": [
    "sns.catplot(x=\"dogs_allowed\", y=\"price\", kind=\"box\", data=df_normalised)"
   ]
  },
  {
   "cell_type": "code",
   "execution_count": 27,
   "metadata": {},
   "outputs": [
    {
     "data": {
      "text/plain": [
       "<seaborn.axisgrid.FacetGrid at 0x1848913e688>"
      ]
     },
     "execution_count": 27,
     "metadata": {},
     "output_type": "execute_result"
    },
    {
     "data": {
      "image/png": "[encoded data removed]",
      "text/plain": [
       "<Figure size 360x360 with 1 Axes>"
      ]
     },
     "metadata": {
      "needs_background": "light"
     },
     "output_type": "display_data"
    }
   ],
   "source": [
    "sns.catplot(x=\"cats_allowed\", y=\"price\", kind=\"box\", data=df_normalised)"
   ]
  },
  {
   "cell_type": "code",
   "execution_count": 28,
   "metadata": {},
   "outputs": [
    {
     "data": {
      "text/plain": [
       "<seaborn.axisgrid.FacetGrid at 0x1848b762488>"
      ]
     },
     "execution_count": 28,
     "metadata": {},
     "output_type": "execute_result"
    },
    {
     "data": {
      "image/png": "[encoded data removed]",
      "text/plain": [
       "<Figure size 360x360 with 1 Axes>"
      ]
     },
     "metadata": {
      "needs_background": "light"
     },
     "output_type": "display_data"
    }
   ],
   "source": [
    "sns.catplot(x=\"smoking_allowed\", y=\"price\", kind=\"box\", data=df_normalised)"
   ]
  },
  {
   "cell_type": "code",
   "execution_count": 29,
   "metadata": {},
   "outputs": [
    {
     "data": {
      "text/plain": [
       "<seaborn.axisgrid.FacetGrid at 0x1848dcd0c08>"
      ]
     },
     "execution_count": 29,
     "metadata": {},
     "output_type": "execute_result"
    },
    {
     "data": {
      "image/png": "[encoded data removed]",
      "text/plain": [
       "<Figure size 360x360 with 1 Axes>"
      ]
     },
     "metadata": {
      "needs_background": "light"
     },
     "output_type": "display_data"
    }
   ],
   "source": [
    "sns.catplot(x=\"wheelchair_access\", y=\"price\", kind=\"box\", data=df_normalised)"
   ]
  },
  {
   "cell_type": "code",
   "execution_count": 30,
   "metadata": {},
   "outputs": [
    {
     "data": {
      "text/plain": [
       "<seaborn.axisgrid.FacetGrid at 0x1848de9dbc8>"
      ]
     },
     "execution_count": 30,
     "metadata": {},
     "output_type": "execute_result"
    },
    {
     "data": {
      "image/png": "[encoded data removed]",
      "text/plain": [
       "<Figure size 360x360 with 1 Axes>"
      ]
     },
     "metadata": {
      "needs_background": "light"
     },
     "output_type": "display_data"
    }
   ],
   "source": [
    "sns.catplot(x=\"electric_vehicle_charge\", y=\"price\", kind=\"box\", data=df_normalised)"
   ]
  },
  {
   "cell_type": "code",
   "execution_count": 31,
   "metadata": {},
   "outputs": [
    {
     "data": {
      "text/plain": [
       "<seaborn.axisgrid.FacetGrid at 0x1848dcc7dc8>"
      ]
     },
     "execution_count": 31,
     "metadata": {},
     "output_type": "execute_result"
    },
    {
     "data": {
      "image/png": "[encoded data removed]",
      "text/plain": [
       "<Figure size 360x360 with 1 Axes>"
      ]
     },
     "metadata": {
      "needs_background": "light"
     },
     "output_type": "display_data"
    }
   ],
   "source": [
    "sns.catplot(x=\"comes_furnished\", y=\"price\", kind=\"box\", data=df_normalised)"
   ]
  },
  {
   "cell_type": "code",
   "execution_count": 32,
   "metadata": {},
   "outputs": [
    {
     "data": {
      "image/png": "[encoded data removed]",
      "text/plain": [
       "<Figure size 360x360 with 1 Axes>"
      ]
     },
     "metadata": {
      "needs_background": "light"
     },
     "output_type": "display_data"
    }
   ],
   "source": [
    "sns.catplot(x=\"laundry_options\", y=\"price\",kind=\"box\", data=df_normalised)\n",
    "plt.xticks(rotation=90)\n",
    "plt.show()"
   ]
  },
  {
   "cell_type": "code",
   "execution_count": 33,
   "metadata": {},
   "outputs": [
    {
     "data": {
      "image/png": "[encoded data removed]",
      "text/plain": [
       "<Figure size 360x360 with 1 Axes>"
      ]
     },
     "metadata": {
      "needs_background": "light"
     },
     "output_type": "display_data"
    }
   ],
   "source": [
    "sns.catplot(x=\"parking_options\", y=\"price\",kind=\"box\", data=df_normalised)\n",
    "plt.xticks(rotation=90)\n",
    "plt.show()"
   ]
  },
  {
   "cell_type": "markdown",
   "metadata": {},
   "source": [
    "## Creating Dummy Variables"
   ]
  },
  {
   "cell_type": "code",
   "execution_count": 34,
   "metadata": {},
   "outputs": [
    {
     "data": {
      "text/html": [
       "<div>\n",
       "<style scoped>\n",
       "    .dataframe tbody tr th:only-of-type {\n",
       "        vertical-align: middle;\n",
       "    }\n",
       "\n",
       "    .dataframe tbody tr th {\n",
       "        vertical-align: top;\n",
       "    }\n",
       "\n",
       "    .dataframe thead th {\n",
       "        text-align: right;\n",
       "    }\n",
       "</style>\n",
       "<table border=\"1\" class=\"dataframe\">\n",
       "  <thead>\n",
       "    <tr style=\"text-align: right;\">\n",
       "      <th></th>\n",
       "      <th>region</th>\n",
       "      <th>type</th>\n",
       "      <th>beds</th>\n",
       "      <th>baths</th>\n",
       "      <th>cats_allowed</th>\n",
       "      <th>dogs_allowed</th>\n",
       "      <th>smoking_allowed</th>\n",
       "      <th>wheelchair_access</th>\n",
       "      <th>electric_vehicle_charge</th>\n",
       "      <th>comes_furnished</th>\n",
       "      <th>...</th>\n",
       "      <th>long</th>\n",
       "      <th>state</th>\n",
       "      <th>price</th>\n",
       "      <th>sqfeet</th>\n",
       "      <th>description_count</th>\n",
       "      <th>laundry_options_laundry in bldg</th>\n",
       "      <th>laundry_options_laundry on site</th>\n",
       "      <th>laundry_options_no laundry on site</th>\n",
       "      <th>laundry_options_w/d hookups</th>\n",
       "      <th>laundry_options_w/d in unit</th>\n",
       "    </tr>\n",
       "  </thead>\n",
       "  <tbody>\n",
       "    <tr>\n",
       "      <th>7304</th>\n",
       "      <td>stockton</td>\n",
       "      <td>house</td>\n",
       "      <td>3</td>\n",
       "      <td>2.0</td>\n",
       "      <td>1</td>\n",
       "      <td>1</td>\n",
       "      <td>1</td>\n",
       "      <td>0</td>\n",
       "      <td>0</td>\n",
       "      <td>0</td>\n",
       "      <td>...</td>\n",
       "      <td>-121.324</td>\n",
       "      <td>ca</td>\n",
       "      <td>0.724554</td>\n",
       "      <td>0.909570</td>\n",
       "      <td>0.267148</td>\n",
       "      <td>0</td>\n",
       "      <td>0</td>\n",
       "      <td>0</td>\n",
       "      <td>0</td>\n",
       "      <td>0</td>\n",
       "    </tr>\n",
       "    <tr>\n",
       "      <th>7841</th>\n",
       "      <td>stockton</td>\n",
       "      <td>house</td>\n",
       "      <td>3</td>\n",
       "      <td>2.0</td>\n",
       "      <td>0</td>\n",
       "      <td>0</td>\n",
       "      <td>1</td>\n",
       "      <td>0</td>\n",
       "      <td>0</td>\n",
       "      <td>0</td>\n",
       "      <td>...</td>\n",
       "      <td>-121.322</td>\n",
       "      <td>ca</td>\n",
       "      <td>0.552041</td>\n",
       "      <td>0.712028</td>\n",
       "      <td>0.281588</td>\n",
       "      <td>0</td>\n",
       "      <td>0</td>\n",
       "      <td>0</td>\n",
       "      <td>1</td>\n",
       "      <td>0</td>\n",
       "    </tr>\n",
       "  </tbody>\n",
       "</table>\n",
       "<p>2 rows × 23 columns</p>\n",
       "</div>"
      ],
      "text/plain": [
       "        region   type  beds  baths  cats_allowed  dogs_allowed  \\\n",
       "7304  stockton  house     3    2.0             1             1   \n",
       "7841  stockton  house     3    2.0             0             0   \n",
       "\n",
       "      smoking_allowed  wheelchair_access  electric_vehicle_charge  \\\n",
       "7304                1                  0                        0   \n",
       "7841                1                  0                        0   \n",
       "\n",
       "      comes_furnished  ...     long state     price    sqfeet  \\\n",
       "7304                0  ... -121.324    ca  0.724554  0.909570   \n",
       "7841                0  ... -121.322    ca  0.552041  0.712028   \n",
       "\n",
       "     description_count  laundry_options_laundry in bldg  \\\n",
       "7304          0.267148                                0   \n",
       "7841          0.281588                                0   \n",
       "\n",
       "      laundry_options_laundry on site  laundry_options_no laundry on site  \\\n",
       "7304                                0                                   0   \n",
       "7841                                0                                   0   \n",
       "\n",
       "      laundry_options_w/d hookups  laundry_options_w/d in unit  \n",
       "7304                            0                            0  \n",
       "7841                            1                            0  \n",
       "\n",
       "[2 rows x 23 columns]"
      ]
     },
     "execution_count": 34,
     "metadata": {},
     "output_type": "execute_result"
    }
   ],
   "source": [
    "dataframe1=pd.get_dummies(df_normalised, columns=['laundry_options'], drop_first=False)\n",
    "dataframe1.head(2)\n"
   ]
  },
  {
   "cell_type": "code",
   "execution_count": 35,
   "metadata": {},
   "outputs": [
    {
     "data": {
      "text/html": [
       "<div>\n",
       "<style scoped>\n",
       "    .dataframe tbody tr th:only-of-type {\n",
       "        vertical-align: middle;\n",
       "    }\n",
       "\n",
       "    .dataframe tbody tr th {\n",
       "        vertical-align: top;\n",
       "    }\n",
       "\n",
       "    .dataframe thead th {\n",
       "        text-align: right;\n",
       "    }\n",
       "</style>\n",
       "<table border=\"1\" class=\"dataframe\">\n",
       "  <thead>\n",
       "    <tr style=\"text-align: right;\">\n",
       "      <th></th>\n",
       "      <th>region</th>\n",
       "      <th>type</th>\n",
       "      <th>beds</th>\n",
       "      <th>baths</th>\n",
       "      <th>cats_allowed</th>\n",
       "      <th>dogs_allowed</th>\n",
       "      <th>smoking_allowed</th>\n",
       "      <th>wheelchair_access</th>\n",
       "      <th>electric_vehicle_charge</th>\n",
       "      <th>comes_furnished</th>\n",
       "      <th>...</th>\n",
       "      <th>laundry_options_laundry in bldg</th>\n",
       "      <th>laundry_options_laundry on site</th>\n",
       "      <th>laundry_options_no laundry on site</th>\n",
       "      <th>laundry_options_w/d hookups</th>\n",
       "      <th>laundry_options_w/d in unit</th>\n",
       "      <th>parking_options_attached garage</th>\n",
       "      <th>parking_options_carport</th>\n",
       "      <th>parking_options_detached garage</th>\n",
       "      <th>parking_options_off-street parking</th>\n",
       "      <th>parking_options_street parking</th>\n",
       "    </tr>\n",
       "  </thead>\n",
       "  <tbody>\n",
       "    <tr>\n",
       "      <th>7304</th>\n",
       "      <td>stockton</td>\n",
       "      <td>house</td>\n",
       "      <td>3</td>\n",
       "      <td>2.0</td>\n",
       "      <td>1</td>\n",
       "      <td>1</td>\n",
       "      <td>1</td>\n",
       "      <td>0</td>\n",
       "      <td>0</td>\n",
       "      <td>0</td>\n",
       "      <td>...</td>\n",
       "      <td>0</td>\n",
       "      <td>0</td>\n",
       "      <td>0</td>\n",
       "      <td>0</td>\n",
       "      <td>0</td>\n",
       "      <td>0</td>\n",
       "      <td>0</td>\n",
       "      <td>0</td>\n",
       "      <td>0</td>\n",
       "      <td>0</td>\n",
       "    </tr>\n",
       "    <tr>\n",
       "      <th>7841</th>\n",
       "      <td>stockton</td>\n",
       "      <td>house</td>\n",
       "      <td>3</td>\n",
       "      <td>2.0</td>\n",
       "      <td>0</td>\n",
       "      <td>0</td>\n",
       "      <td>1</td>\n",
       "      <td>0</td>\n",
       "      <td>0</td>\n",
       "      <td>0</td>\n",
       "      <td>...</td>\n",
       "      <td>0</td>\n",
       "      <td>0</td>\n",
       "      <td>0</td>\n",
       "      <td>1</td>\n",
       "      <td>0</td>\n",
       "      <td>1</td>\n",
       "      <td>0</td>\n",
       "      <td>0</td>\n",
       "      <td>0</td>\n",
       "      <td>0</td>\n",
       "    </tr>\n",
       "  </tbody>\n",
       "</table>\n",
       "<p>2 rows × 27 columns</p>\n",
       "</div>"
      ],
      "text/plain": [
       "        region   type  beds  baths  cats_allowed  dogs_allowed  \\\n",
       "7304  stockton  house     3    2.0             1             1   \n",
       "7841  stockton  house     3    2.0             0             0   \n",
       "\n",
       "      smoking_allowed  wheelchair_access  electric_vehicle_charge  \\\n",
       "7304                1                  0                        0   \n",
       "7841                1                  0                        0   \n",
       "\n",
       "      comes_furnished  ... laundry_options_laundry in bldg  \\\n",
       "7304                0  ...                               0   \n",
       "7841                0  ...                               0   \n",
       "\n",
       "      laundry_options_laundry on site  laundry_options_no laundry on site  \\\n",
       "7304                                0                                   0   \n",
       "7841                                0                                   0   \n",
       "\n",
       "     laundry_options_w/d hookups  laundry_options_w/d in unit  \\\n",
       "7304                           0                            0   \n",
       "7841                           1                            0   \n",
       "\n",
       "      parking_options_attached garage  parking_options_carport  \\\n",
       "7304                                0                        0   \n",
       "7841                                1                        0   \n",
       "\n",
       "      parking_options_detached garage  parking_options_off-street parking  \\\n",
       "7304                                0                                   0   \n",
       "7841                                0                                   0   \n",
       "\n",
       "      parking_options_street parking  \n",
       "7304                               0  \n",
       "7841                               0  \n",
       "\n",
       "[2 rows x 27 columns]"
      ]
     },
     "execution_count": 35,
     "metadata": {},
     "output_type": "execute_result"
    }
   ],
   "source": [
    "df_valid2=pd.get_dummies(dataframe1, columns=['parking_options'], drop_first=False)\n",
    "df_valid2.head(2)"
   ]
  },
  {
   "cell_type": "code",
   "execution_count": 36,
   "metadata": {},
   "outputs": [
    {
     "data": {
      "text/plain": [
       "(1831, 27)"
      ]
     },
     "execution_count": 36,
     "metadata": {},
     "output_type": "execute_result"
    }
   ],
   "source": [
    "df_valid2.shape"
   ]
  },
  {
   "cell_type": "code",
   "execution_count": 37,
   "metadata": {},
   "outputs": [
    {
     "data": {
      "text/html": [
       "<div>\n",
       "<style scoped>\n",
       "    .dataframe tbody tr th:only-of-type {\n",
       "        vertical-align: middle;\n",
       "    }\n",
       "\n",
       "    .dataframe tbody tr th {\n",
       "        vertical-align: top;\n",
       "    }\n",
       "\n",
       "    .dataframe thead th {\n",
       "        text-align: right;\n",
       "    }\n",
       "</style>\n",
       "<table border=\"1\" class=\"dataframe\">\n",
       "  <thead>\n",
       "    <tr style=\"text-align: right;\">\n",
       "      <th></th>\n",
       "      <th>beds</th>\n",
       "      <th>baths</th>\n",
       "      <th>cats_allowed</th>\n",
       "      <th>dogs_allowed</th>\n",
       "      <th>price</th>\n",
       "      <th>sqfeet</th>\n",
       "      <th>description_count</th>\n",
       "      <th>laundry_options_laundry in bldg</th>\n",
       "      <th>laundry_options_laundry on site</th>\n",
       "      <th>laundry_options_no laundry on site</th>\n",
       "      <th>laundry_options_w/d hookups</th>\n",
       "      <th>laundry_options_w/d in unit</th>\n",
       "      <th>parking_options_attached garage</th>\n",
       "      <th>parking_options_carport</th>\n",
       "      <th>parking_options_detached garage</th>\n",
       "      <th>parking_options_off-street parking</th>\n",
       "      <th>parking_options_street parking</th>\n",
       "    </tr>\n",
       "  </thead>\n",
       "  <tbody>\n",
       "    <tr>\n",
       "      <th>7304</th>\n",
       "      <td>3</td>\n",
       "      <td>2.0</td>\n",
       "      <td>1</td>\n",
       "      <td>1</td>\n",
       "      <td>0.724554</td>\n",
       "      <td>0.909570</td>\n",
       "      <td>0.267148</td>\n",
       "      <td>0</td>\n",
       "      <td>0</td>\n",
       "      <td>0</td>\n",
       "      <td>0</td>\n",
       "      <td>0</td>\n",
       "      <td>0</td>\n",
       "      <td>0</td>\n",
       "      <td>0</td>\n",
       "      <td>0</td>\n",
       "      <td>0</td>\n",
       "    </tr>\n",
       "    <tr>\n",
       "      <th>7841</th>\n",
       "      <td>3</td>\n",
       "      <td>2.0</td>\n",
       "      <td>0</td>\n",
       "      <td>0</td>\n",
       "      <td>0.552041</td>\n",
       "      <td>0.712028</td>\n",
       "      <td>0.281588</td>\n",
       "      <td>0</td>\n",
       "      <td>0</td>\n",
       "      <td>0</td>\n",
       "      <td>1</td>\n",
       "      <td>0</td>\n",
       "      <td>1</td>\n",
       "      <td>0</td>\n",
       "      <td>0</td>\n",
       "      <td>0</td>\n",
       "      <td>0</td>\n",
       "    </tr>\n",
       "    <tr>\n",
       "      <th>9011</th>\n",
       "      <td>3</td>\n",
       "      <td>2.0</td>\n",
       "      <td>0</td>\n",
       "      <td>0</td>\n",
       "      <td>0.552041</td>\n",
       "      <td>0.712028</td>\n",
       "      <td>0.281588</td>\n",
       "      <td>0</td>\n",
       "      <td>0</td>\n",
       "      <td>0</td>\n",
       "      <td>1</td>\n",
       "      <td>0</td>\n",
       "      <td>1</td>\n",
       "      <td>0</td>\n",
       "      <td>0</td>\n",
       "      <td>0</td>\n",
       "      <td>0</td>\n",
       "    </tr>\n",
       "    <tr>\n",
       "      <th>9039</th>\n",
       "      <td>2</td>\n",
       "      <td>2.0</td>\n",
       "      <td>1</td>\n",
       "      <td>1</td>\n",
       "      <td>0.645198</td>\n",
       "      <td>0.518876</td>\n",
       "      <td>0.963899</td>\n",
       "      <td>0</td>\n",
       "      <td>0</td>\n",
       "      <td>0</td>\n",
       "      <td>1</td>\n",
       "      <td>0</td>\n",
       "      <td>0</td>\n",
       "      <td>1</td>\n",
       "      <td>0</td>\n",
       "      <td>0</td>\n",
       "      <td>0</td>\n",
       "    </tr>\n",
       "    <tr>\n",
       "      <th>9097</th>\n",
       "      <td>2</td>\n",
       "      <td>1.0</td>\n",
       "      <td>0</td>\n",
       "      <td>0</td>\n",
       "      <td>0.000000</td>\n",
       "      <td>0.482880</td>\n",
       "      <td>0.173285</td>\n",
       "      <td>0</td>\n",
       "      <td>0</td>\n",
       "      <td>0</td>\n",
       "      <td>0</td>\n",
       "      <td>0</td>\n",
       "      <td>0</td>\n",
       "      <td>0</td>\n",
       "      <td>0</td>\n",
       "      <td>0</td>\n",
       "      <td>0</td>\n",
       "    </tr>\n",
       "  </tbody>\n",
       "</table>\n",
       "</div>"
      ],
      "text/plain": [
       "      beds  baths  cats_allowed  dogs_allowed     price    sqfeet  \\\n",
       "7304     3    2.0             1             1  0.724554  0.909570   \n",
       "7841     3    2.0             0             0  0.552041  0.712028   \n",
       "9011     3    2.0             0             0  0.552041  0.712028   \n",
       "9039     2    2.0             1             1  0.645198  0.518876   \n",
       "9097     2    1.0             0             0  0.000000  0.482880   \n",
       "\n",
       "      description_count  laundry_options_laundry in bldg  \\\n",
       "7304           0.267148                                0   \n",
       "7841           0.281588                                0   \n",
       "9011           0.281588                                0   \n",
       "9039           0.963899                                0   \n",
       "9097           0.173285                                0   \n",
       "\n",
       "      laundry_options_laundry on site  laundry_options_no laundry on site  \\\n",
       "7304                                0                                   0   \n",
       "7841                                0                                   0   \n",
       "9011                                0                                   0   \n",
       "9039                                0                                   0   \n",
       "9097                                0                                   0   \n",
       "\n",
       "      laundry_options_w/d hookups  laundry_options_w/d in unit  \\\n",
       "7304                            0                            0   \n",
       "7841                            1                            0   \n",
       "9011                            1                            0   \n",
       "9039                            1                            0   \n",
       "9097                            0                            0   \n",
       "\n",
       "      parking_options_attached garage  parking_options_carport  \\\n",
       "7304                                0                        0   \n",
       "7841                                1                        0   \n",
       "9011                                1                        0   \n",
       "9039                                0                        1   \n",
       "9097                                0                        0   \n",
       "\n",
       "      parking_options_detached garage  parking_options_off-street parking  \\\n",
       "7304                                0                                   0   \n",
       "7841                                0                                   0   \n",
       "9011                                0                                   0   \n",
       "9039                                0                                   0   \n",
       "9097                                0                                   0   \n",
       "\n",
       "      parking_options_street parking  \n",
       "7304                               0  \n",
       "7841                               0  \n",
       "9011                               0  \n",
       "9039                               0  \n",
       "9097                               0  "
      ]
     },
     "execution_count": 37,
     "metadata": {},
     "output_type": "execute_result"
    }
   ],
   "source": [
    "df_valid3=df_valid2.drop(['region', 'type', 'description','smoking_allowed',\n",
    "                          'wheelchair_access', 'electric_vehicle_charge',\n",
    "                          'comes_furnished','long', 'lat', 'state' ], axis=1)\n",
    "df_valid3.head()"
   ]
  },
  {
   "cell_type": "markdown",
   "metadata": {},
   "source": [
    "## Part II: Inferential Statistical Analysis"
   ]
  },
  {
   "cell_type": "code",
   "execution_count": 38,
   "metadata": {},
   "outputs": [
    {
     "data": {
      "image/png": "[encoded data removed]",
      "text/plain": [
       "<Figure size 432x288 with 2 Axes>"
      ]
     },
     "metadata": {
      "needs_background": "light"
     },
     "output_type": "display_data"
    }
   ],
   "source": [
    "heatmap=sns.heatmap(df_valid3.corr(), linewidths=0.5 )\n",
    "plt.show()"
   ]
  },
  {
   "cell_type": "code",
   "execution_count": 39,
   "metadata": {},
   "outputs": [
    {
     "data": {
      "image/png": "[encoded data removed]",
      "text/plain": [
       "<Figure size 1080x360 with 1 Axes>"
      ]
     },
     "metadata": {
      "needs_background": "light"
     },
     "output_type": "display_data"
    }
   ],
   "source": [
    "plt.rcParams['figure.figsize']=(15,5)\n",
    "corr=df_valid3.corr()\n",
    "corr = corr.sort_values(\"price\", ascending=False)\n",
    "#corr.plot(kind='bar')\n",
    "corr['price'].plot(kind='bar')\n",
    "plt.title(\"Variables correlated with Price\")\n",
    "plt.ylabel(\"Correlation Strength\")\n",
    "plt.show()"
   ]
  },
  {
   "cell_type": "code",
   "execution_count": 40,
   "metadata": {},
   "outputs": [
    {
     "data": {
      "text/html": [
       "<div>\n",
       "<style scoped>\n",
       "    .dataframe tbody tr th:only-of-type {\n",
       "        vertical-align: middle;\n",
       "    }\n",
       "\n",
       "    .dataframe tbody tr th {\n",
       "        vertical-align: top;\n",
       "    }\n",
       "\n",
       "    .dataframe thead th {\n",
       "        text-align: right;\n",
       "    }\n",
       "</style>\n",
       "<table border=\"1\" class=\"dataframe\">\n",
       "  <thead>\n",
       "    <tr style=\"text-align: right;\">\n",
       "      <th></th>\n",
       "      <th>beds</th>\n",
       "      <th>baths</th>\n",
       "      <th>cats_allowed</th>\n",
       "      <th>dogs_allowed</th>\n",
       "      <th>price</th>\n",
       "      <th>sqfeet</th>\n",
       "      <th>description_count</th>\n",
       "      <th>laundry_options_laundry in bldg</th>\n",
       "      <th>laundry_options_laundry on site</th>\n",
       "      <th>laundry_options_no laundry on site</th>\n",
       "      <th>laundry_options_w/d hookups</th>\n",
       "      <th>laundry_options_w/d in unit</th>\n",
       "      <th>parking_options_attached garage</th>\n",
       "      <th>parking_options_carport</th>\n",
       "      <th>parking_options_detached garage</th>\n",
       "      <th>parking_options_off-street parking</th>\n",
       "      <th>parking_options_street parking</th>\n",
       "    </tr>\n",
       "  </thead>\n",
       "  <tbody>\n",
       "    <tr>\n",
       "      <th>7304</th>\n",
       "      <td>3</td>\n",
       "      <td>2.0</td>\n",
       "      <td>1</td>\n",
       "      <td>1</td>\n",
       "      <td>0.724554</td>\n",
       "      <td>0.909570</td>\n",
       "      <td>0.267148</td>\n",
       "      <td>0</td>\n",
       "      <td>0</td>\n",
       "      <td>0</td>\n",
       "      <td>0</td>\n",
       "      <td>0</td>\n",
       "      <td>0</td>\n",
       "      <td>0</td>\n",
       "      <td>0</td>\n",
       "      <td>0</td>\n",
       "      <td>0</td>\n",
       "    </tr>\n",
       "    <tr>\n",
       "      <th>7841</th>\n",
       "      <td>3</td>\n",
       "      <td>2.0</td>\n",
       "      <td>0</td>\n",
       "      <td>0</td>\n",
       "      <td>0.552041</td>\n",
       "      <td>0.712028</td>\n",
       "      <td>0.281588</td>\n",
       "      <td>0</td>\n",
       "      <td>0</td>\n",
       "      <td>0</td>\n",
       "      <td>1</td>\n",
       "      <td>0</td>\n",
       "      <td>1</td>\n",
       "      <td>0</td>\n",
       "      <td>0</td>\n",
       "      <td>0</td>\n",
       "      <td>0</td>\n",
       "    </tr>\n",
       "    <tr>\n",
       "      <th>9011</th>\n",
       "      <td>3</td>\n",
       "      <td>2.0</td>\n",
       "      <td>0</td>\n",
       "      <td>0</td>\n",
       "      <td>0.552041</td>\n",
       "      <td>0.712028</td>\n",
       "      <td>0.281588</td>\n",
       "      <td>0</td>\n",
       "      <td>0</td>\n",
       "      <td>0</td>\n",
       "      <td>1</td>\n",
       "      <td>0</td>\n",
       "      <td>1</td>\n",
       "      <td>0</td>\n",
       "      <td>0</td>\n",
       "      <td>0</td>\n",
       "      <td>0</td>\n",
       "    </tr>\n",
       "    <tr>\n",
       "      <th>9039</th>\n",
       "      <td>2</td>\n",
       "      <td>2.0</td>\n",
       "      <td>1</td>\n",
       "      <td>1</td>\n",
       "      <td>0.645198</td>\n",
       "      <td>0.518876</td>\n",
       "      <td>0.963899</td>\n",
       "      <td>0</td>\n",
       "      <td>0</td>\n",
       "      <td>0</td>\n",
       "      <td>1</td>\n",
       "      <td>0</td>\n",
       "      <td>0</td>\n",
       "      <td>1</td>\n",
       "      <td>0</td>\n",
       "      <td>0</td>\n",
       "      <td>0</td>\n",
       "    </tr>\n",
       "    <tr>\n",
       "      <th>9097</th>\n",
       "      <td>2</td>\n",
       "      <td>1.0</td>\n",
       "      <td>0</td>\n",
       "      <td>0</td>\n",
       "      <td>0.000000</td>\n",
       "      <td>0.482880</td>\n",
       "      <td>0.173285</td>\n",
       "      <td>0</td>\n",
       "      <td>0</td>\n",
       "      <td>0</td>\n",
       "      <td>0</td>\n",
       "      <td>0</td>\n",
       "      <td>0</td>\n",
       "      <td>0</td>\n",
       "      <td>0</td>\n",
       "      <td>0</td>\n",
       "      <td>0</td>\n",
       "    </tr>\n",
       "  </tbody>\n",
       "</table>\n",
       "</div>"
      ],
      "text/plain": [
       "      beds  baths  cats_allowed  dogs_allowed     price    sqfeet  \\\n",
       "7304     3    2.0             1             1  0.724554  0.909570   \n",
       "7841     3    2.0             0             0  0.552041  0.712028   \n",
       "9011     3    2.0             0             0  0.552041  0.712028   \n",
       "9039     2    2.0             1             1  0.645198  0.518876   \n",
       "9097     2    1.0             0             0  0.000000  0.482880   \n",
       "\n",
       "      description_count  laundry_options_laundry in bldg  \\\n",
       "7304           0.267148                                0   \n",
       "7841           0.281588                                0   \n",
       "9011           0.281588                                0   \n",
       "9039           0.963899                                0   \n",
       "9097           0.173285                                0   \n",
       "\n",
       "      laundry_options_laundry on site  laundry_options_no laundry on site  \\\n",
       "7304                                0                                   0   \n",
       "7841                                0                                   0   \n",
       "9011                                0                                   0   \n",
       "9039                                0                                   0   \n",
       "9097                                0                                   0   \n",
       "\n",
       "      laundry_options_w/d hookups  laundry_options_w/d in unit  \\\n",
       "7304                            0                            0   \n",
       "7841                            1                            0   \n",
       "9011                            1                            0   \n",
       "9039                            1                            0   \n",
       "9097                            0                            0   \n",
       "\n",
       "      parking_options_attached garage  parking_options_carport  \\\n",
       "7304                                0                        0   \n",
       "7841                                1                        0   \n",
       "9011                                1                        0   \n",
       "9039                                0                        1   \n",
       "9097                                0                        0   \n",
       "\n",
       "      parking_options_detached garage  parking_options_off-street parking  \\\n",
       "7304                                0                                   0   \n",
       "7841                                0                                   0   \n",
       "9011                                0                                   0   \n",
       "9039                                0                                   0   \n",
       "9097                                0                                   0   \n",
       "\n",
       "      parking_options_street parking  \n",
       "7304                               0  \n",
       "7841                               0  \n",
       "9011                               0  \n",
       "9039                               0  \n",
       "9097                               0  "
      ]
     },
     "execution_count": 40,
     "metadata": {},
     "output_type": "execute_result"
    }
   ],
   "source": [
    "df_valid3.head()"
   ]
  },
  {
   "cell_type": "code",
   "execution_count": 41,
   "metadata": {},
   "outputs": [
    {
     "data": {
      "text/plain": [
       "(1831, 17)"
      ]
     },
     "execution_count": 41,
     "metadata": {},
     "output_type": "execute_result"
    }
   ],
   "source": [
    "df_valid3.shape"
   ]
  },
  {
   "cell_type": "code",
   "execution_count": 42,
   "metadata": {},
   "outputs": [
    {
     "data": {
      "text/html": [
       "<div>\n",
       "<style scoped>\n",
       "    .dataframe tbody tr th:only-of-type {\n",
       "        vertical-align: middle;\n",
       "    }\n",
       "\n",
       "    .dataframe tbody tr th {\n",
       "        vertical-align: top;\n",
       "    }\n",
       "\n",
       "    .dataframe thead th {\n",
       "        text-align: right;\n",
       "    }\n",
       "</style>\n",
       "<table border=\"1\" class=\"dataframe\">\n",
       "  <thead>\n",
       "    <tr style=\"text-align: right;\">\n",
       "      <th></th>\n",
       "      <th>beds</th>\n",
       "      <th>baths</th>\n",
       "      <th>cats_allowed</th>\n",
       "      <th>dogs_allowed</th>\n",
       "      <th>sqfeet</th>\n",
       "      <th>description_count</th>\n",
       "      <th>laundry_options_laundry in bldg</th>\n",
       "      <th>laundry_options_laundry on site</th>\n",
       "      <th>laundry_options_no laundry on site</th>\n",
       "      <th>laundry_options_w/d hookups</th>\n",
       "      <th>laundry_options_w/d in unit</th>\n",
       "      <th>parking_options_attached garage</th>\n",
       "      <th>parking_options_carport</th>\n",
       "      <th>parking_options_detached garage</th>\n",
       "      <th>parking_options_off-street parking</th>\n",
       "      <th>parking_options_street parking</th>\n",
       "      <th>price</th>\n",
       "    </tr>\n",
       "  </thead>\n",
       "  <tbody>\n",
       "    <tr>\n",
       "      <th>7304</th>\n",
       "      <td>3</td>\n",
       "      <td>2.0</td>\n",
       "      <td>1</td>\n",
       "      <td>1</td>\n",
       "      <td>0.909570</td>\n",
       "      <td>0.267148</td>\n",
       "      <td>0</td>\n",
       "      <td>0</td>\n",
       "      <td>0</td>\n",
       "      <td>0</td>\n",
       "      <td>0</td>\n",
       "      <td>0</td>\n",
       "      <td>0</td>\n",
       "      <td>0</td>\n",
       "      <td>0</td>\n",
       "      <td>0</td>\n",
       "      <td>0.724554</td>\n",
       "    </tr>\n",
       "    <tr>\n",
       "      <th>7841</th>\n",
       "      <td>3</td>\n",
       "      <td>2.0</td>\n",
       "      <td>0</td>\n",
       "      <td>0</td>\n",
       "      <td>0.712028</td>\n",
       "      <td>0.281588</td>\n",
       "      <td>0</td>\n",
       "      <td>0</td>\n",
       "      <td>0</td>\n",
       "      <td>1</td>\n",
       "      <td>0</td>\n",
       "      <td>1</td>\n",
       "      <td>0</td>\n",
       "      <td>0</td>\n",
       "      <td>0</td>\n",
       "      <td>0</td>\n",
       "      <td>0.552041</td>\n",
       "    </tr>\n",
       "    <tr>\n",
       "      <th>9011</th>\n",
       "      <td>3</td>\n",
       "      <td>2.0</td>\n",
       "      <td>0</td>\n",
       "      <td>0</td>\n",
       "      <td>0.712028</td>\n",
       "      <td>0.281588</td>\n",
       "      <td>0</td>\n",
       "      <td>0</td>\n",
       "      <td>0</td>\n",
       "      <td>1</td>\n",
       "      <td>0</td>\n",
       "      <td>1</td>\n",
       "      <td>0</td>\n",
       "      <td>0</td>\n",
       "      <td>0</td>\n",
       "      <td>0</td>\n",
       "      <td>0.552041</td>\n",
       "    </tr>\n",
       "    <tr>\n",
       "      <th>9039</th>\n",
       "      <td>2</td>\n",
       "      <td>2.0</td>\n",
       "      <td>1</td>\n",
       "      <td>1</td>\n",
       "      <td>0.518876</td>\n",
       "      <td>0.963899</td>\n",
       "      <td>0</td>\n",
       "      <td>0</td>\n",
       "      <td>0</td>\n",
       "      <td>1</td>\n",
       "      <td>0</td>\n",
       "      <td>0</td>\n",
       "      <td>1</td>\n",
       "      <td>0</td>\n",
       "      <td>0</td>\n",
       "      <td>0</td>\n",
       "      <td>0.645198</td>\n",
       "    </tr>\n",
       "    <tr>\n",
       "      <th>9097</th>\n",
       "      <td>2</td>\n",
       "      <td>1.0</td>\n",
       "      <td>0</td>\n",
       "      <td>0</td>\n",
       "      <td>0.482880</td>\n",
       "      <td>0.173285</td>\n",
       "      <td>0</td>\n",
       "      <td>0</td>\n",
       "      <td>0</td>\n",
       "      <td>0</td>\n",
       "      <td>0</td>\n",
       "      <td>0</td>\n",
       "      <td>0</td>\n",
       "      <td>0</td>\n",
       "      <td>0</td>\n",
       "      <td>0</td>\n",
       "      <td>0.000000</td>\n",
       "    </tr>\n",
       "  </tbody>\n",
       "</table>\n",
       "</div>"
      ],
      "text/plain": [
       "      beds  baths  cats_allowed  dogs_allowed    sqfeet  description_count  \\\n",
       "7304     3    2.0             1             1  0.909570           0.267148   \n",
       "7841     3    2.0             0             0  0.712028           0.281588   \n",
       "9011     3    2.0             0             0  0.712028           0.281588   \n",
       "9039     2    2.0             1             1  0.518876           0.963899   \n",
       "9097     2    1.0             0             0  0.482880           0.173285   \n",
       "\n",
       "      laundry_options_laundry in bldg  laundry_options_laundry on site  \\\n",
       "7304                                0                                0   \n",
       "7841                                0                                0   \n",
       "9011                                0                                0   \n",
       "9039                                0                                0   \n",
       "9097                                0                                0   \n",
       "\n",
       "      laundry_options_no laundry on site  laundry_options_w/d hookups  \\\n",
       "7304                                   0                            0   \n",
       "7841                                   0                            1   \n",
       "9011                                   0                            1   \n",
       "9039                                   0                            1   \n",
       "9097                                   0                            0   \n",
       "\n",
       "      laundry_options_w/d in unit  parking_options_attached garage  \\\n",
       "7304                            0                                0   \n",
       "7841                            0                                1   \n",
       "9011                            0                                1   \n",
       "9039                            0                                0   \n",
       "9097                            0                                0   \n",
       "\n",
       "      parking_options_carport  parking_options_detached garage  \\\n",
       "7304                        0                                0   \n",
       "7841                        0                                0   \n",
       "9011                        0                                0   \n",
       "9039                        1                                0   \n",
       "9097                        0                                0   \n",
       "\n",
       "      parking_options_off-street parking  parking_options_street parking  \\\n",
       "7304                                   0                               0   \n",
       "7841                                   0                               0   \n",
       "9011                                   0                               0   \n",
       "9039                                   0                               0   \n",
       "9097                                   0                               0   \n",
       "\n",
       "         price  \n",
       "7304  0.724554  \n",
       "7841  0.552041  \n",
       "9011  0.552041  \n",
       "9039  0.645198  \n",
       "9097  0.000000  "
      ]
     },
     "execution_count": 42,
     "metadata": {},
     "output_type": "execute_result"
    }
   ],
   "source": [
    "columns=['beds','baths','cats_allowed', 'dogs_allowed',\n",
    "         'sqfeet', 'description_count','laundry_options_laundry in bldg',\n",
    "         'laundry_options_laundry on site','laundry_options_no laundry on site',\n",
    "         'laundry_options_w/d hookups','laundry_options_w/d in unit',\n",
    "         'parking_options_attached garage','parking_options_carport',\n",
    "         'parking_options_detached garage',\n",
    "         'parking_options_off-street parking','parking_options_street parking',\n",
    "         'price']\n",
    "df_reindex=df_valid3.reindex(columns=columns)\n",
    "df_reindex.head()"
   ]
  },
  {
   "cell_type": "code",
   "execution_count": 43,
   "metadata": {},
   "outputs": [
    {
     "data": {
      "text/plain": [
       "(1831, 17)"
      ]
     },
     "execution_count": 43,
     "metadata": {},
     "output_type": "execute_result"
    }
   ],
   "source": [
    "df_reindex.shape"
   ]
  },
  {
   "cell_type": "code",
   "execution_count": 44,
   "metadata": {},
   "outputs": [],
   "source": [
    "y=df_reindex.iloc[:, -1]"
   ]
  },
  {
   "cell_type": "code",
   "execution_count": 45,
   "metadata": {},
   "outputs": [],
   "source": [
    "x=df_reindex.iloc[:, 0:16]"
   ]
  },
  {
   "cell_type": "code",
   "execution_count": 46,
   "metadata": {},
   "outputs": [
    {
     "data": {
      "text/html": [
       "<div>\n",
       "<style scoped>\n",
       "    .dataframe tbody tr th:only-of-type {\n",
       "        vertical-align: middle;\n",
       "    }\n",
       "\n",
       "    .dataframe tbody tr th {\n",
       "        vertical-align: top;\n",
       "    }\n",
       "\n",
       "    .dataframe thead th {\n",
       "        text-align: right;\n",
       "    }\n",
       "</style>\n",
       "<table border=\"1\" class=\"dataframe\">\n",
       "  <thead>\n",
       "    <tr style=\"text-align: right;\">\n",
       "      <th></th>\n",
       "      <th>beds</th>\n",
       "      <th>baths</th>\n",
       "      <th>cats_allowed</th>\n",
       "      <th>dogs_allowed</th>\n",
       "      <th>sqfeet</th>\n",
       "      <th>description_count</th>\n",
       "      <th>laundry_options_laundry in bldg</th>\n",
       "      <th>laundry_options_laundry on site</th>\n",
       "      <th>laundry_options_no laundry on site</th>\n",
       "      <th>laundry_options_w/d hookups</th>\n",
       "      <th>laundry_options_w/d in unit</th>\n",
       "      <th>parking_options_attached garage</th>\n",
       "      <th>parking_options_carport</th>\n",
       "      <th>parking_options_detached garage</th>\n",
       "      <th>parking_options_off-street parking</th>\n",
       "      <th>parking_options_street parking</th>\n",
       "    </tr>\n",
       "  </thead>\n",
       "  <tbody>\n",
       "    <tr>\n",
       "      <th>7304</th>\n",
       "      <td>3</td>\n",
       "      <td>2.0</td>\n",
       "      <td>1</td>\n",
       "      <td>1</td>\n",
       "      <td>0.909570</td>\n",
       "      <td>0.267148</td>\n",
       "      <td>0</td>\n",
       "      <td>0</td>\n",
       "      <td>0</td>\n",
       "      <td>0</td>\n",
       "      <td>0</td>\n",
       "      <td>0</td>\n",
       "      <td>0</td>\n",
       "      <td>0</td>\n",
       "      <td>0</td>\n",
       "      <td>0</td>\n",
       "    </tr>\n",
       "    <tr>\n",
       "      <th>7841</th>\n",
       "      <td>3</td>\n",
       "      <td>2.0</td>\n",
       "      <td>0</td>\n",
       "      <td>0</td>\n",
       "      <td>0.712028</td>\n",
       "      <td>0.281588</td>\n",
       "      <td>0</td>\n",
       "      <td>0</td>\n",
       "      <td>0</td>\n",
       "      <td>1</td>\n",
       "      <td>0</td>\n",
       "      <td>1</td>\n",
       "      <td>0</td>\n",
       "      <td>0</td>\n",
       "      <td>0</td>\n",
       "      <td>0</td>\n",
       "    </tr>\n",
       "    <tr>\n",
       "      <th>9011</th>\n",
       "      <td>3</td>\n",
       "      <td>2.0</td>\n",
       "      <td>0</td>\n",
       "      <td>0</td>\n",
       "      <td>0.712028</td>\n",
       "      <td>0.281588</td>\n",
       "      <td>0</td>\n",
       "      <td>0</td>\n",
       "      <td>0</td>\n",
       "      <td>1</td>\n",
       "      <td>0</td>\n",
       "      <td>1</td>\n",
       "      <td>0</td>\n",
       "      <td>0</td>\n",
       "      <td>0</td>\n",
       "      <td>0</td>\n",
       "    </tr>\n",
       "    <tr>\n",
       "      <th>9039</th>\n",
       "      <td>2</td>\n",
       "      <td>2.0</td>\n",
       "      <td>1</td>\n",
       "      <td>1</td>\n",
       "      <td>0.518876</td>\n",
       "      <td>0.963899</td>\n",
       "      <td>0</td>\n",
       "      <td>0</td>\n",
       "      <td>0</td>\n",
       "      <td>1</td>\n",
       "      <td>0</td>\n",
       "      <td>0</td>\n",
       "      <td>1</td>\n",
       "      <td>0</td>\n",
       "      <td>0</td>\n",
       "      <td>0</td>\n",
       "    </tr>\n",
       "    <tr>\n",
       "      <th>9097</th>\n",
       "      <td>2</td>\n",
       "      <td>1.0</td>\n",
       "      <td>0</td>\n",
       "      <td>0</td>\n",
       "      <td>0.482880</td>\n",
       "      <td>0.173285</td>\n",
       "      <td>0</td>\n",
       "      <td>0</td>\n",
       "      <td>0</td>\n",
       "      <td>0</td>\n",
       "      <td>0</td>\n",
       "      <td>0</td>\n",
       "      <td>0</td>\n",
       "      <td>0</td>\n",
       "      <td>0</td>\n",
       "      <td>0</td>\n",
       "    </tr>\n",
       "  </tbody>\n",
       "</table>\n",
       "</div>"
      ],
      "text/plain": [
       "      beds  baths  cats_allowed  dogs_allowed    sqfeet  description_count  \\\n",
       "7304     3    2.0             1             1  0.909570           0.267148   \n",
       "7841     3    2.0             0             0  0.712028           0.281588   \n",
       "9011     3    2.0             0             0  0.712028           0.281588   \n",
       "9039     2    2.0             1             1  0.518876           0.963899   \n",
       "9097     2    1.0             0             0  0.482880           0.173285   \n",
       "\n",
       "      laundry_options_laundry in bldg  laundry_options_laundry on site  \\\n",
       "7304                                0                                0   \n",
       "7841                                0                                0   \n",
       "9011                                0                                0   \n",
       "9039                                0                                0   \n",
       "9097                                0                                0   \n",
       "\n",
       "      laundry_options_no laundry on site  laundry_options_w/d hookups  \\\n",
       "7304                                   0                            0   \n",
       "7841                                   0                            1   \n",
       "9011                                   0                            1   \n",
       "9039                                   0                            1   \n",
       "9097                                   0                            0   \n",
       "\n",
       "      laundry_options_w/d in unit  parking_options_attached garage  \\\n",
       "7304                            0                                0   \n",
       "7841                            0                                1   \n",
       "9011                            0                                1   \n",
       "9039                            0                                0   \n",
       "9097                            0                                0   \n",
       "\n",
       "      parking_options_carport  parking_options_detached garage  \\\n",
       "7304                        0                                0   \n",
       "7841                        0                                0   \n",
       "9011                        0                                0   \n",
       "9039                        1                                0   \n",
       "9097                        0                                0   \n",
       "\n",
       "      parking_options_off-street parking  parking_options_street parking  \n",
       "7304                                   0                               0  \n",
       "7841                                   0                               0  \n",
       "9011                                   0                               0  \n",
       "9039                                   0                               0  \n",
       "9097                                   0                               0  "
      ]
     },
     "execution_count": 46,
     "metadata": {},
     "output_type": "execute_result"
    }
   ],
   "source": [
    "x.head()"
   ]
  },
  {
   "cell_type": "code",
   "execution_count": 47,
   "metadata": {},
   "outputs": [],
   "source": [
    "from sklearn.model_selection import train_test_split\n",
    "x_train, x_test, y_train, y_test=train_test_split(x, y, test_size=0.2, random_state=0)"
   ]
  },
  {
   "cell_type": "code",
   "execution_count": 48,
   "metadata": {},
   "outputs": [
    {
     "data": {
      "text/plain": [
       "LinearRegression(copy_X=True, fit_intercept=True, n_jobs=None, normalize=False)"
      ]
     },
     "execution_count": 48,
     "metadata": {},
     "output_type": "execute_result"
    }
   ],
   "source": [
    "from sklearn.linear_model import LinearRegression\n",
    "regressor=LinearRegression()\n",
    "regressor.fit(x_train, y_train)"
   ]
  },
  {
   "cell_type": "code",
   "execution_count": 49,
   "metadata": {},
   "outputs": [
    {
     "data": {
      "text/plain": [
       "array([ 0.03988271,  0.02656104, -0.02838175, -0.00650625,  0.23696182,\n",
       "        0.18729245, -0.06824844, -0.0899598 , -0.17393123, -0.10278844,\n",
       "        0.08993073,  0.14834475, -0.0055505 ,  0.03355304, -0.09145015,\n",
       "        0.02832488])"
      ]
     },
     "execution_count": 49,
     "metadata": {},
     "output_type": "execute_result"
    }
   ],
   "source": [
    "regressor.coef_"
   ]
  },
  {
   "cell_type": "code",
   "execution_count": 50,
   "metadata": {},
   "outputs": [
    {
     "data": {
      "text/plain": [
       "0.6496260711085874"
      ]
     },
     "execution_count": 50,
     "metadata": {},
     "output_type": "execute_result"
    }
   ],
   "source": [
    "y_pred=regressor.predict(x_test)\n",
    "y_pred[0]"
   ]
  },
  {
   "cell_type": "code",
   "execution_count": 51,
   "metadata": {
    "scrolled": true
   },
   "outputs": [
    {
     "name": "stdout",
     "output_type": "stream",
     "text": [
      "10394    0.480161\n",
      "11842    0.293272\n",
      "9580     0.717654\n",
      "9996     0.422657\n",
      "11716    0.491662\n",
      "           ...   \n",
      "11037    0.376078\n",
      "10488    0.212766\n",
      "10001    0.491662\n",
      "11237    0.480161\n",
      "10838    0.296147\n",
      "Name: price, Length: 367, dtype: float64\n"
     ]
    }
   ],
   "source": [
    "print(y_test)"
   ]
  },
  {
   "cell_type": "code",
   "execution_count": 52,
   "metadata": {},
   "outputs": [
    {
     "name": "stdout",
     "output_type": "stream",
     "text": [
      "0.5160441215679589\n"
     ]
    }
   ],
   "source": [
    "from sklearn.metrics import r2_score\n",
    "score=r2_score(y_test, y_pred)\n",
    "print(score)"
   ]
  },
  {
   "cell_type": "code",
   "execution_count": 53,
   "metadata": {},
   "outputs": [
    {
     "data": {
      "text/plain": [
       "0.013235928303066677"
      ]
     },
     "execution_count": 53,
     "metadata": {},
     "output_type": "execute_result"
    }
   ],
   "source": [
    "# checking accuracy using mean square error (MSE)\n",
    "np.mean((y_pred-y_test)**2)"
   ]
  }
 ],
 "metadata": {
  "kernelspec": {
   "display_name": "Python 3",
   "language": "python",
   "name": "python3"
  },
  "language_info": {
   "codemirror_mode": {
    "name": "ipython",
    "version": 3
   },
   "file_extension": ".py",
   "mimetype": "text/x-python",
   "name": "python",
   "nbconvert_exporter": "python",
   "pygments_lexer": "ipython3",
   "version": "3.7.6"
  }
 },
 "nbformat": 4,
 "nbformat_minor": 4
}
